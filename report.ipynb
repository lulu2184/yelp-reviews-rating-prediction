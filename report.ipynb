{
 "cells": [
  {
   "cell_type": "markdown",
   "metadata": {},
   "source": [
    "# Rating Predictor for Yelp Reviews"
   ]
  },
  {
   "cell_type": "code",
   "execution_count": 51,
   "metadata": {
    "collapsed": true
   },
   "outputs": [],
   "source": [
    "# Import libraries\n",
    "import requests\n",
    "import json\n",
    "import time\n",
    "import pandas as pd\n",
    "from bs4 import BeautifulSoup"
   ]
  },
  {
   "cell_type": "markdown",
   "metadata": {},
   "source": [
    "## Scraper\n",
    "Scrape review and restaurant data from Yelp API."
   ]
  },
  {
   "cell_type": "code",
   "execution_count": 4,
   "metadata": {
    "collapsed": true
   },
   "outputs": [],
   "source": [
    "# Load API key from file \n",
    "with open('api_key.txt', 'r') as f:\n",
    "    api_key = f.read().replace('\\n','')"
   ]
  },
  {
   "cell_type": "code",
   "execution_count": 29,
   "metadata": {},
   "outputs": [],
   "source": [
    "def extract_info_for_business(row):\n",
    "    return {'name': row['name'], 'id': row['id'], 'review_count': int(row['review_count']), 'url': row['url']}\n",
    "\n",
    "def scrape_restaurant_list(location):\n",
    "    # Comment for method    \n",
    "    payload = {'categories': 'restaurants', 'location': location, 'limit': 20, 'offset': 0}\n",
    "    basic_url = 'https://api.yelp.com/v3/businesses/search'\n",
    "    headers = {'Authorization': 'Bearer ' + api_key}\n",
    "    response = requests.get(basic_url, params=payload, headers=headers)\n",
    "    res_json = response.json()\n",
    "    total = res_json['total']\n",
    "    print(\"total: \", total)\n",
    "    businesses_list = list(map(extract_info_for_business, res_json['businesses']))\n",
    "    while len(businesses_list) < total:\n",
    "        print(len(businesses_list))\n",
    "        time.sleep(0.3)\n",
    "        payload['offset'] = len(businesses_list)\n",
    "        response = requests.get(basic_url, params=payload, headers=headers)\n",
    "        res_json = response.json()\n",
    "        if 'businesses' not in res_json or len(list(res_json['businesses'])) == 0:\n",
    "            break\n",
    "        businesses_list.extend(list(map(extract_info_for_business ,res_json['businesses'])))\n",
    "    \n",
    "    return businesses_list\n",
    "    "
   ]
  },
  {
   "cell_type": "code",
   "execution_count": 30,
   "metadata": {},
   "outputs": [
    {
     "name": "stdout",
     "output_type": "stream",
     "text": [
      "total:  4000\n",
      "20\n",
      "40\n",
      "60\n",
      "80\n",
      "100\n",
      "120\n",
      "140\n",
      "160\n",
      "180\n",
      "200\n",
      "220\n",
      "240\n",
      "260\n",
      "280\n",
      "300\n",
      "320\n",
      "340\n",
      "360\n",
      "380\n",
      "400\n",
      "420\n",
      "440\n",
      "460\n",
      "480\n",
      "500\n",
      "520\n",
      "540\n",
      "560\n",
      "580\n",
      "600\n",
      "620\n",
      "640\n",
      "660\n",
      "680\n",
      "700\n",
      "720\n",
      "740\n",
      "760\n",
      "780\n",
      "800\n",
      "820\n",
      "840\n",
      "860\n",
      "880\n",
      "900\n",
      "920\n",
      "940\n",
      "960\n",
      "980\n",
      "1000\n",
      "1000\n"
     ]
    }
   ],
   "source": [
    "blist = scrape_restaurant_list('94043')\n",
    "# print(blist)\n",
    "print(len(blist))"
   ]
  },
  {
   "cell_type": "code",
   "execution_count": 31,
   "metadata": {},
   "outputs": [
    {
     "name": "stdout",
     "output_type": "stream",
     "text": [
      "[{'name': \"The Sea by Alexander's Steakhouse\", 'id': 'P1eEPolk9EDGqVn1Jyncww', 'review_count': 874, 'url': 'https://www.yelp.com/biz/the-sea-by-alexanders-steakhouse-palo-alto?adjust_creative=6RD6nFOw75PxaCjeWnG24Q&utm_campaign=yelp_api_v3&utm_medium=api_v3_business_search&utm_source=6RD6nFOw75PxaCjeWnG24Q'}, {'name': 'So Gong Dong Tofu House', 'id': 'rTUV3mPTGcALQrKgdokACA', 'review_count': 1326, 'url': 'https://www.yelp.com/biz/so-gong-dong-tofu-house-palo-alto?adjust_creative=6RD6nFOw75PxaCjeWnG24Q&utm_campaign=yelp_api_v3&utm_medium=api_v3_business_search&utm_source=6RD6nFOw75PxaCjeWnG24Q'}, {'name': \"Zareen's\", 'id': 'ud9ocsQHI7h3zNO7FdOFYQ', 'review_count': 1263, 'url': 'https://www.yelp.com/biz/zareens-mountain-view-3?adjust_creative=6RD6nFOw75PxaCjeWnG24Q&utm_campaign=yelp_api_v3&utm_medium=api_v3_business_search&utm_source=6RD6nFOw75PxaCjeWnG24Q'}, {'name': 'Evvia Estiatorio', 'id': '1vMgajRAI3lYwuCeGX58oQ', 'review_count': 2098, 'url': 'https://www.yelp.com/biz/evvia-estiatorio-palo-alto?adjust_creative=6RD6nFOw75PxaCjeWnG24Q&utm_campaign=yelp_api_v3&utm_medium=api_v3_business_search&utm_source=6RD6nFOw75PxaCjeWnG24Q'}, {'name': \"Dittmer's Gourmet Meats & Wurst-Haus\", 'id': 'OPuFiXxckMS6U5KZjQWYFw', 'review_count': 597, 'url': 'https://www.yelp.com/biz/dittmers-gourmet-meats-and-wurst-haus-los-altos-2?adjust_creative=6RD6nFOw75PxaCjeWnG24Q&utm_campaign=yelp_api_v3&utm_medium=api_v3_business_search&utm_source=6RD6nFOw75PxaCjeWnG24Q'}, {'name': 'La Bodeguita Del Medio', 'id': 'gYZbQe-zYyMpd9z1ud0T0w', 'review_count': 1708, 'url': 'https://www.yelp.com/biz/la-bodeguita-del-medio-palo-alto?adjust_creative=6RD6nFOw75PxaCjeWnG24Q&utm_campaign=yelp_api_v3&utm_medium=api_v3_business_search&utm_source=6RD6nFOw75PxaCjeWnG24Q'}, {'name': \"Chef Chu's\", 'id': 'ZimdCe2xCAOOZjt1aQAMvg', 'review_count': 1335, 'url': 'https://www.yelp.com/biz/chef-chus-los-altos?adjust_creative=6RD6nFOw75PxaCjeWnG24Q&utm_campaign=yelp_api_v3&utm_medium=api_v3_business_search&utm_source=6RD6nFOw75PxaCjeWnG24Q'}, {'name': 'INDO Restaurant & Lounge', 'id': '-gjBoypvDfv9UhagceRsvw', 'review_count': 834, 'url': 'https://www.yelp.com/biz/indo-restaurant-and-lounge-palo-alto-2?adjust_creative=6RD6nFOw75PxaCjeWnG24Q&utm_campaign=yelp_api_v3&utm_medium=api_v3_business_search&utm_source=6RD6nFOw75PxaCjeWnG24Q'}, {'name': 'Terún', 'id': 'pLqiFFz1JScp8wMMyXcx-w', 'review_count': 1127, 'url': 'https://www.yelp.com/biz/ter%C3%BAn-palo-alto-3?adjust_creative=6RD6nFOw75PxaCjeWnG24Q&utm_campaign=yelp_api_v3&utm_medium=api_v3_business_search&utm_source=6RD6nFOw75PxaCjeWnG24Q'}, {'name': 'Cascal', 'id': 'K6IdrX5prUvA5iAMCdQfGw', 'review_count': 2675, 'url': 'https://www.yelp.com/biz/cascal-mountain-view?adjust_creative=6RD6nFOw75PxaCjeWnG24Q&utm_campaign=yelp_api_v3&utm_medium=api_v3_business_search&utm_source=6RD6nFOw75PxaCjeWnG24Q'}]\n"
     ]
    }
   ],
   "source": [
    "print(blist[:10])"
   ]
  },
  {
   "cell_type": "markdown",
   "metadata": {},
   "source": [
    "Get reviews"
   ]
  },
  {
   "cell_type": "code",
   "execution_count": 32,
   "metadata": {
    "collapsed": true
   },
   "outputs": [],
   "source": [
    "def parse_page(html):\n",
    "    \"\"\"\n",
    "    Parse the reviews on a single page of a restaurant.\n",
    "    \n",
    "    Args:\n",
    "        html (string): String of HTML corresponding to a Yelp restaurant\n",
    "\n",
    "    Returns:\n",
    "        tuple(list, string): a tuple of two elements\n",
    "            first element: list of dictionaries corresponding to the extracted review information\n",
    "            second element: URL for the next page of reviews (or None if it is the last page)\n",
    "    \"\"\"\n",
    "    review_list = []\n",
    "    soup = BeautifulSoup(html, 'html.parser')\n",
    "    for review_block in soup.find_all('div', attrs={'class': 'review review--with-sidebar'}):\n",
    "        review_id = user_id = rating = date = text = None\n",
    "        if 'data-review-id' in review_block.attrs:\n",
    "            review_id = review_block['data-review-id']\n",
    "        if 'data-signup-object' in review_block.attrs and review_block['data-signup-object'].startswith('user_id:'):\n",
    "            user_id = review_block['data-signup-object'][8:]\n",
    "        rating_div = review_block.find('div', attrs={'class': 'i-stars'})\n",
    "        if 'title' in rating_div.attrs:\n",
    "            rating = float(rating_div['title'].split()[0])\n",
    "        date_span = review_block.find('span', attrs={'class': 'rating-qualifier'})\n",
    "        if date_span:\n",
    "            date = date_span.getText().strip()\n",
    "        review_content = review_block.find('div', attrs={'class': 'review-content'})\n",
    "        if review_content:\n",
    "            text = review_content.find('p').getText()\n",
    "        if review_id and user_id and rating and date and text:\n",
    "            review_list.append({\n",
    "                'review_id': review_id,\n",
    "                'user_id': user_id,\n",
    "                'rating': rating,\n",
    "                'date': date,\n",
    "                'text': text\n",
    "            })\n",
    "    next_link = None\n",
    "    next_ele = soup.find('a', attrs={'class': 'u-decoration-none next pagination-links_anchor'})\n",
    "    if next_ele and 'href' in next_ele.attrs:\n",
    "        next_link = next_ele['href']\n",
    "    return review_list, next_link"
   ]
  },
  {
   "cell_type": "code",
   "execution_count": 53,
   "metadata": {
    "collapsed": true
   },
   "outputs": [],
   "source": [
    "def scrape_all_reviews(restaurants):\n",
    "    for i, restaurant in enumerate(restaurants):\n",
    "        print(\"restaurant: \", i)\n",
    "        reviews = []\n",
    "        url = restaurant['url']\n",
    "        while url != None:\n",
    "            response = requests.get(url)\n",
    "            reviews_in_page, url = parse_page(response.content)\n",
    "            reviews.extend(reviews_in_page)\n",
    "        print(len(reviews))\n",
    "        df = pd.DataFrame(reviews)\n",
    "        df.to_csv('reviews.csv', mode='a', header=True)"
   ]
  },
  {
   "cell_type": "code",
   "execution_count": null,
   "metadata": {},
   "outputs": [
    {
     "name": "stdout",
     "output_type": "stream",
     "text": [
      "restaurant:  0\n",
      "990\n",
      "restaurant:  1\n",
      "618\n",
      "restaurant:  2\n",
      "440\n",
      "restaurant:  3\n",
      "801\n",
      "restaurant:  4\n",
      "552\n",
      "restaurant:  5\n",
      "1213\n",
      "restaurant:  6\n",
      "661\n",
      "restaurant:  7\n",
      "482\n",
      "restaurant:  8\n",
      "697\n",
      "restaurant:  9\n",
      "1183\n",
      "restaurant:  10\n",
      "1382\n",
      "restaurant:  11\n",
      "1044\n",
      "restaurant:  12\n",
      "1423\n",
      "restaurant:  13\n",
      "647\n",
      "restaurant:  14\n",
      "671\n",
      "restaurant:  15\n",
      "1150\n",
      "restaurant:  16\n",
      "574\n",
      "restaurant:  17\n",
      "150\n",
      "restaurant:  18\n",
      "1227\n",
      "restaurant:  19\n",
      "442\n",
      "restaurant:  20\n",
      "511\n",
      "restaurant:  21\n",
      "629\n",
      "restaurant:  22\n",
      "703\n",
      "restaurant:  23\n",
      "992\n",
      "restaurant:  24\n",
      "424\n",
      "restaurant:  25\n",
      "193\n",
      "restaurant:  26\n",
      "851\n",
      "restaurant:  27\n",
      "349\n",
      "restaurant:  28\n",
      "1177\n",
      "restaurant:  29\n",
      "449\n",
      "restaurant:  30\n",
      "1246\n",
      "restaurant:  31\n",
      "863\n",
      "restaurant:  32\n",
      "1189\n",
      "restaurant:  33\n",
      "420\n",
      "restaurant:  34\n",
      "623\n",
      "restaurant:  35\n",
      "1490\n",
      "restaurant:  36\n",
      "612\n",
      "restaurant:  37\n",
      "402\n",
      "restaurant:  38\n",
      "479\n",
      "restaurant:  39\n",
      "913\n",
      "restaurant:  40\n",
      "552\n",
      "restaurant:  41\n",
      "576\n",
      "restaurant:  42\n",
      "931\n",
      "restaurant:  43\n",
      "600\n",
      "restaurant:  44\n",
      "342\n",
      "restaurant:  45\n",
      "721\n",
      "restaurant:  46\n",
      "434\n",
      "restaurant:  47\n",
      "911\n",
      "restaurant:  48\n",
      "286\n",
      "restaurant:  49\n",
      "1859\n",
      "restaurant:  50\n",
      "626\n",
      "restaurant:  51\n",
      "564\n",
      "restaurant:  52\n",
      "1178\n",
      "restaurant:  53\n",
      "499\n",
      "restaurant:  54\n",
      "367\n",
      "restaurant:  55\n",
      "340\n",
      "restaurant:  56\n",
      "315\n",
      "restaurant:  57\n",
      "221\n",
      "restaurant:  58\n",
      "1175\n",
      "restaurant:  59\n",
      "842\n",
      "restaurant:  60\n",
      "571\n",
      "restaurant:  61\n",
      "438\n",
      "restaurant:  62\n",
      "291\n",
      "restaurant:  63\n",
      "538\n",
      "restaurant:  64\n",
      "337\n",
      "restaurant:  65\n",
      "116\n",
      "restaurant:  66\n",
      "1476\n",
      "restaurant:  67\n",
      "1089\n",
      "restaurant:  68\n",
      "524\n",
      "restaurant:  69\n",
      "164\n",
      "restaurant:  70\n"
     ]
    }
   ],
   "source": [
    "scrape_all_reviews(blist[42:])"
   ]
  },
  {
   "cell_type": "code",
   "execution_count": 48,
   "metadata": {},
   "outputs": [
    {
     "name": "stdout",
     "output_type": "stream",
     "text": [
      "3\n"
     ]
    }
   ],
   "source": []
  },
  {
   "cell_type": "code",
   "execution_count": null,
   "metadata": {
    "collapsed": true
   },
   "outputs": [],
   "source": []
  },
  {
   "cell_type": "code",
   "execution_count": null,
   "metadata": {
    "collapsed": true
   },
   "outputs": [],
   "source": []
  },
  {
   "cell_type": "code",
   "execution_count": null,
   "metadata": {
    "collapsed": true
   },
   "outputs": [],
   "source": []
  },
  {
   "cell_type": "code",
   "execution_count": null,
   "metadata": {
    "collapsed": true
   },
   "outputs": [],
   "source": []
  },
  {
   "cell_type": "code",
   "execution_count": null,
   "metadata": {
    "collapsed": true
   },
   "outputs": [],
   "source": []
  },
  {
   "cell_type": "code",
   "execution_count": null,
   "metadata": {
    "collapsed": true
   },
   "outputs": [],
   "source": []
  },
  {
   "cell_type": "code",
   "execution_count": null,
   "metadata": {
    "collapsed": true
   },
   "outputs": [],
   "source": []
  },
  {
   "cell_type": "code",
   "execution_count": null,
   "metadata": {
    "collapsed": true
   },
   "outputs": [],
   "source": []
  }
 ],
 "metadata": {
  "kernelspec": {
   "display_name": "Python 3",
   "language": "python",
   "name": "python3"
  },
  "language_info": {
   "codemirror_mode": {
    "name": "ipython",
    "version": 3
   },
   "file_extension": ".py",
   "mimetype": "text/x-python",
   "name": "python",
   "nbconvert_exporter": "python",
   "pygments_lexer": "ipython3",
   "version": "3.6.3"
  }
 },
 "nbformat": 4,
 "nbformat_minor": 2
}
