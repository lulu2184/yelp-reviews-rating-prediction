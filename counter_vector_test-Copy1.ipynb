{
 "cells": [
  {
   "cell_type": "markdown",
   "metadata": {},
   "source": [
    "# Rating Predictor for Yelp Reviews"
   ]
  },
  {
   "cell_type": "code",
   "execution_count": 15,
   "metadata": {
    "collapsed": true
   },
   "outputs": [],
   "source": [
    "# Import libraries\n",
    "import requests\n",
    "import json\n",
    "import time\n",
    "import pandas as pd\n",
    "from bs4 import BeautifulSoup"
   ]
  },
  {
   "cell_type": "markdown",
   "metadata": {},
   "source": [
    "## Scraper\n",
    "Scrape review and restaurant data from Yelp API."
   ]
  },
  {
   "cell_type": "code",
   "execution_count": 16,
   "metadata": {},
   "outputs": [
    {
     "ename": "FileNotFoundError",
     "evalue": "[Errno 2] No such file or directory: 'api_key.txt'",
     "output_type": "error",
     "traceback": [
      "\u001b[0;31m---------------------------------------------------------------------------\u001b[0m",
      "\u001b[0;31mFileNotFoundError\u001b[0m                         Traceback (most recent call last)",
      "\u001b[0;32m<ipython-input-16-f31a29546c52>\u001b[0m in \u001b[0;36m<module>\u001b[0;34m()\u001b[0m\n\u001b[1;32m      1\u001b[0m \u001b[0;31m# Load API key from file\u001b[0m\u001b[0;34m\u001b[0m\u001b[0;34m\u001b[0m\u001b[0m\n\u001b[0;32m----> 2\u001b[0;31m \u001b[0;32mwith\u001b[0m \u001b[0mopen\u001b[0m\u001b[0;34m(\u001b[0m\u001b[0;34m'api_key.txt'\u001b[0m\u001b[0;34m,\u001b[0m \u001b[0;34m'r'\u001b[0m\u001b[0;34m)\u001b[0m \u001b[0;32mas\u001b[0m \u001b[0mf\u001b[0m\u001b[0;34m:\u001b[0m\u001b[0;34m\u001b[0m\u001b[0m\n\u001b[0m\u001b[1;32m      3\u001b[0m     \u001b[0mapi_key\u001b[0m \u001b[0;34m=\u001b[0m \u001b[0mf\u001b[0m\u001b[0;34m.\u001b[0m\u001b[0mread\u001b[0m\u001b[0;34m(\u001b[0m\u001b[0;34m)\u001b[0m\u001b[0;34m.\u001b[0m\u001b[0mreplace\u001b[0m\u001b[0;34m(\u001b[0m\u001b[0;34m'\\n'\u001b[0m\u001b[0;34m,\u001b[0m\u001b[0;34m''\u001b[0m\u001b[0;34m)\u001b[0m\u001b[0;34m\u001b[0m\u001b[0m\n",
      "\u001b[0;31mFileNotFoundError\u001b[0m: [Errno 2] No such file or directory: 'api_key.txt'"
     ]
    }
   ],
   "source": [
    "# Load API key from file \n",
    "with open('api_key.txt', 'r') as f:\n",
    "    api_key = f.read().replace('\\n','')"
   ]
  },
  {
   "cell_type": "code",
   "execution_count": 17,
   "metadata": {
    "collapsed": true
   },
   "outputs": [],
   "source": [
    "def extract_info_for_business(row):\n",
    "    return {'name': row['name'], 'id': row['id'], 'review_count': int(row['review_count']), 'url': row['url']}\n",
    "\n",
    "def scrape_restaurant_list(location):\n",
    "    # Comment for method    \n",
    "    payload = {'categories': 'restaurants', 'location': location, 'limit': 20, 'offset': 0}\n",
    "    basic_url = 'https://api.yelp.com/v3/businesses/search'\n",
    "    headers = {'Authorization': 'Bearer ' + api_key}\n",
    "    response = requests.get(basic_url, params=payload, headers=headers)\n",
    "    res_json = response.json()\n",
    "    total = res_json['total']\n",
    "    print(\"total: \", total)\n",
    "    businesses_list = list(map(extract_info_for_business, res_json['businesses']))\n",
    "    while len(businesses_list) < total:\n",
    "        print(len(businesses_list))\n",
    "        time.sleep(0.3)\n",
    "        payload['offset'] = len(businesses_list)\n",
    "        response = requests.get(basic_url, params=payload, headers=headers)\n",
    "        res_json = response.json()\n",
    "        if 'businesses' not in res_json or len(list(res_json['businesses'])) == 0:\n",
    "            break\n",
    "        businesses_list.extend(list(map(extract_info_for_business ,res_json['businesses'])))\n",
    "    \n",
    "    return businesses_list\n",
    "    "
   ]
  },
  {
   "cell_type": "code",
   "execution_count": 18,
   "metadata": {},
   "outputs": [
    {
     "ename": "NameError",
     "evalue": "name 'api_key' is not defined",
     "output_type": "error",
     "traceback": [
      "\u001b[0;31m---------------------------------------------------------------------------\u001b[0m",
      "\u001b[0;31mNameError\u001b[0m                                 Traceback (most recent call last)",
      "\u001b[0;32m<ipython-input-18-95867ef37c5d>\u001b[0m in \u001b[0;36m<module>\u001b[0;34m()\u001b[0m\n\u001b[0;32m----> 1\u001b[0;31m \u001b[0mblist\u001b[0m \u001b[0;34m=\u001b[0m \u001b[0mscrape_restaurant_list\u001b[0m\u001b[0;34m(\u001b[0m\u001b[0;34m'94043'\u001b[0m\u001b[0;34m)\u001b[0m\u001b[0;34m\u001b[0m\u001b[0m\n\u001b[0m\u001b[1;32m      2\u001b[0m \u001b[0;31m# print(blist)\u001b[0m\u001b[0;34m\u001b[0m\u001b[0;34m\u001b[0m\u001b[0m\n\u001b[1;32m      3\u001b[0m \u001b[0mprint\u001b[0m\u001b[0;34m(\u001b[0m\u001b[0mlen\u001b[0m\u001b[0;34m(\u001b[0m\u001b[0mblist\u001b[0m\u001b[0;34m)\u001b[0m\u001b[0;34m)\u001b[0m\u001b[0;34m\u001b[0m\u001b[0m\n",
      "\u001b[0;32m<ipython-input-17-39f6a6490cb2>\u001b[0m in \u001b[0;36mscrape_restaurant_list\u001b[0;34m(location)\u001b[0m\n\u001b[1;32m      6\u001b[0m     \u001b[0mpayload\u001b[0m \u001b[0;34m=\u001b[0m \u001b[0;34m{\u001b[0m\u001b[0;34m'categories'\u001b[0m\u001b[0;34m:\u001b[0m \u001b[0;34m'restaurants'\u001b[0m\u001b[0;34m,\u001b[0m \u001b[0;34m'location'\u001b[0m\u001b[0;34m:\u001b[0m \u001b[0mlocation\u001b[0m\u001b[0;34m,\u001b[0m \u001b[0;34m'limit'\u001b[0m\u001b[0;34m:\u001b[0m \u001b[0;36m20\u001b[0m\u001b[0;34m,\u001b[0m \u001b[0;34m'offset'\u001b[0m\u001b[0;34m:\u001b[0m \u001b[0;36m0\u001b[0m\u001b[0;34m}\u001b[0m\u001b[0;34m\u001b[0m\u001b[0m\n\u001b[1;32m      7\u001b[0m     \u001b[0mbasic_url\u001b[0m \u001b[0;34m=\u001b[0m \u001b[0;34m'https://api.yelp.com/v3/businesses/search'\u001b[0m\u001b[0;34m\u001b[0m\u001b[0m\n\u001b[0;32m----> 8\u001b[0;31m     \u001b[0mheaders\u001b[0m \u001b[0;34m=\u001b[0m \u001b[0;34m{\u001b[0m\u001b[0;34m'Authorization'\u001b[0m\u001b[0;34m:\u001b[0m \u001b[0;34m'Bearer '\u001b[0m \u001b[0;34m+\u001b[0m \u001b[0mapi_key\u001b[0m\u001b[0;34m}\u001b[0m\u001b[0;34m\u001b[0m\u001b[0m\n\u001b[0m\u001b[1;32m      9\u001b[0m     \u001b[0mresponse\u001b[0m \u001b[0;34m=\u001b[0m \u001b[0mrequests\u001b[0m\u001b[0;34m.\u001b[0m\u001b[0mget\u001b[0m\u001b[0;34m(\u001b[0m\u001b[0mbasic_url\u001b[0m\u001b[0;34m,\u001b[0m \u001b[0mparams\u001b[0m\u001b[0;34m=\u001b[0m\u001b[0mpayload\u001b[0m\u001b[0;34m,\u001b[0m \u001b[0mheaders\u001b[0m\u001b[0;34m=\u001b[0m\u001b[0mheaders\u001b[0m\u001b[0;34m)\u001b[0m\u001b[0;34m\u001b[0m\u001b[0m\n\u001b[1;32m     10\u001b[0m     \u001b[0mres_json\u001b[0m \u001b[0;34m=\u001b[0m \u001b[0mresponse\u001b[0m\u001b[0;34m.\u001b[0m\u001b[0mjson\u001b[0m\u001b[0;34m(\u001b[0m\u001b[0;34m)\u001b[0m\u001b[0;34m\u001b[0m\u001b[0m\n",
      "\u001b[0;31mNameError\u001b[0m: name 'api_key' is not defined"
     ]
    }
   ],
   "source": [
    "blist = scrape_restaurant_list('94043')\n",
    "# print(blist)\n",
    "print(len(blist))"
   ]
  },
  {
   "cell_type": "code",
   "execution_count": 19,
   "metadata": {},
   "outputs": [
    {
     "ename": "NameError",
     "evalue": "name 'blist' is not defined",
     "output_type": "error",
     "traceback": [
      "\u001b[0;31m---------------------------------------------------------------------------\u001b[0m",
      "\u001b[0;31mNameError\u001b[0m                                 Traceback (most recent call last)",
      "\u001b[0;32m<ipython-input-19-83086191659c>\u001b[0m in \u001b[0;36m<module>\u001b[0;34m()\u001b[0m\n\u001b[0;32m----> 1\u001b[0;31m \u001b[0mprint\u001b[0m\u001b[0;34m(\u001b[0m\u001b[0mblist\u001b[0m\u001b[0;34m[\u001b[0m\u001b[0;34m:\u001b[0m\u001b[0;36m10\u001b[0m\u001b[0;34m]\u001b[0m\u001b[0;34m)\u001b[0m\u001b[0;34m\u001b[0m\u001b[0m\n\u001b[0m",
      "\u001b[0;31mNameError\u001b[0m: name 'blist' is not defined"
     ]
    }
   ],
   "source": [
    "print(blist[:10])"
   ]
  },
  {
   "cell_type": "markdown",
   "metadata": {},
   "source": [
    "Get reviews"
   ]
  },
  {
   "cell_type": "code",
   "execution_count": 32,
   "metadata": {
    "collapsed": true
   },
   "outputs": [],
   "source": [
    "def parse_page(html):\n",
    "    \"\"\"\n",
    "    Parse the reviews on a single page of a restaurant.\n",
    "    \n",
    "    Args:\n",
    "        html (string): String of HTML corresponding to a Yelp restaurant\n",
    "\n",
    "    Returns:\n",
    "        tuple(list, string): a tuple of two elements\n",
    "            first element: list of dictionaries corresponding to the extracted review information\n",
    "            second element: URL for the next page of reviews (or None if it is the last page)\n",
    "    \"\"\"\n",
    "    review_list = []\n",
    "    soup = BeautifulSoup(html, 'html.parser')\n",
    "    for review_block in soup.find_all('div', attrs={'class': 'review review--with-sidebar'}):\n",
    "        review_id = user_id = rating = date = text = None\n",
    "        if 'data-review-id' in review_block.attrs:\n",
    "            review_id = review_block['data-review-id']\n",
    "        if 'data-signup-object' in review_block.attrs and review_block['data-signup-object'].startswith('user_id:'):\n",
    "            user_id = review_block['data-signup-object'][8:]\n",
    "        rating_div = review_block.find('div', attrs={'class': 'i-stars'})\n",
    "        if 'title' in rating_div.attrs:\n",
    "            rating = float(rating_div['title'].split()[0])\n",
    "        date_span = review_block.find('span', attrs={'class': 'rating-qualifier'})\n",
    "        if date_span:\n",
    "            date = date_span.getText().strip()\n",
    "        review_content = review_block.find('div', attrs={'class': 'review-content'})\n",
    "        if review_content:\n",
    "            text = review_content.find('p').getText()\n",
    "        if review_id and user_id and rating and date and text:\n",
    "            review_list.append({\n",
    "                'review_id': review_id,\n",
    "                'user_id': user_id,\n",
    "                'rating': rating,\n",
    "                'date': date,\n",
    "                'text': text\n",
    "            })\n",
    "    next_link = None\n",
    "    next_ele = soup.find('a', attrs={'class': 'u-decoration-none next pagination-links_anchor'})\n",
    "    if next_ele and 'href' in next_ele.attrs:\n",
    "        next_link = next_ele['href']\n",
    "    return review_list, next_link"
   ]
  },
  {
   "cell_type": "code",
   "execution_count": 53,
   "metadata": {
    "collapsed": true
   },
   "outputs": [],
   "source": [
    "def scrape_all_reviews(restaurants):\n",
    "    for i, restaurant in enumerate(restaurants):\n",
    "        print(\"restaurant: \", i)\n",
    "        reviews = []\n",
    "        url = restaurant['url']\n",
    "        while url != None:\n",
    "            response = requests.get(url)\n",
    "            reviews_in_page, url = parse_page(response.content)\n",
    "            reviews.extend(reviews_in_page)\n",
    "        print(len(reviews))\n",
    "        df = pd.DataFrame(reviews)\n",
    "        df.to_csv('reviews.csv', mode='a', header=True)"
   ]
  },
  {
   "cell_type": "code",
   "execution_count": null,
   "metadata": {},
   "outputs": [
    {
     "name": "stdout",
     "output_type": "stream",
     "text": [
      "restaurant:  0\n",
      "990\n",
      "restaurant:  1\n",
      "618\n",
      "restaurant:  2\n",
      "440\n",
      "restaurant:  3\n",
      "801\n",
      "restaurant:  4\n",
      "552\n",
      "restaurant:  5\n",
      "1213\n",
      "restaurant:  6\n",
      "661\n",
      "restaurant:  7\n",
      "482\n",
      "restaurant:  8\n",
      "697\n",
      "restaurant:  9\n",
      "1183\n",
      "restaurant:  10\n",
      "1382\n",
      "restaurant:  11\n",
      "1044\n",
      "restaurant:  12\n",
      "1423\n",
      "restaurant:  13\n",
      "647\n",
      "restaurant:  14\n",
      "671\n",
      "restaurant:  15\n",
      "1150\n",
      "restaurant:  16\n",
      "574\n",
      "restaurant:  17\n",
      "150\n",
      "restaurant:  18\n",
      "1227\n",
      "restaurant:  19\n",
      "442\n",
      "restaurant:  20\n",
      "511\n",
      "restaurant:  21\n",
      "629\n",
      "restaurant:  22\n",
      "703\n",
      "restaurant:  23\n",
      "992\n",
      "restaurant:  24\n",
      "424\n",
      "restaurant:  25\n",
      "193\n",
      "restaurant:  26\n",
      "851\n",
      "restaurant:  27\n",
      "349\n",
      "restaurant:  28\n",
      "1177\n",
      "restaurant:  29\n",
      "449\n",
      "restaurant:  30\n",
      "1246\n",
      "restaurant:  31\n",
      "863\n",
      "restaurant:  32\n",
      "1189\n",
      "restaurant:  33\n",
      "420\n",
      "restaurant:  34\n",
      "623\n",
      "restaurant:  35\n",
      "1490\n",
      "restaurant:  36\n",
      "612\n",
      "restaurant:  37\n",
      "402\n",
      "restaurant:  38\n",
      "479\n",
      "restaurant:  39\n",
      "913\n",
      "restaurant:  40\n",
      "552\n",
      "restaurant:  41\n",
      "576\n",
      "restaurant:  42\n",
      "931\n",
      "restaurant:  43\n",
      "600\n",
      "restaurant:  44\n",
      "342\n",
      "restaurant:  45\n",
      "721\n",
      "restaurant:  46\n",
      "434\n",
      "restaurant:  47\n",
      "911\n",
      "restaurant:  48\n",
      "286\n",
      "restaurant:  49\n",
      "1859\n",
      "restaurant:  50\n",
      "626\n",
      "restaurant:  51\n",
      "564\n",
      "restaurant:  52\n",
      "1178\n",
      "restaurant:  53\n",
      "499\n",
      "restaurant:  54\n",
      "367\n",
      "restaurant:  55\n",
      "340\n",
      "restaurant:  56\n",
      "315\n",
      "restaurant:  57\n",
      "221\n",
      "restaurant:  58\n",
      "1175\n",
      "restaurant:  59\n",
      "842\n",
      "restaurant:  60\n",
      "571\n",
      "restaurant:  61\n",
      "438\n",
      "restaurant:  62\n",
      "291\n",
      "restaurant:  63\n",
      "538\n",
      "restaurant:  64\n",
      "337\n",
      "restaurant:  65\n",
      "116\n",
      "restaurant:  66\n",
      "1476\n",
      "restaurant:  67\n",
      "1089\n",
      "restaurant:  68\n",
      "524\n",
      "restaurant:  69\n",
      "164\n",
      "restaurant:  70\n"
     ]
    }
   ],
   "source": [
    "scrape_all_reviews(blist[42:])"
   ]
  },
  {
   "cell_type": "code",
   "execution_count": 48,
   "metadata": {},
   "outputs": [
    {
     "name": "stdout",
     "output_type": "stream",
     "text": [
      "3\n"
     ]
    }
   ],
   "source": []
  },
  {
   "cell_type": "markdown",
   "metadata": {
    "collapsed": true
   },
   "source": [
    "## Feature Extraction"
   ]
  },
  {
   "cell_type": "code",
   "execution_count": 20,
   "metadata": {},
   "outputs": [
    {
     "name": "stderr",
     "output_type": "stream",
     "text": [
      "/anaconda3/lib/python3.6/site-packages/ipykernel_launcher.py:2: DeprecationWarning: 'U' mode is deprecated\n",
      "  \n"
     ]
    }
   ],
   "source": [
    "# df = pd.read_csv(open('reviews.csv','rU'), header = None)\n",
    "df = pd.read_csv(open('reviews.csv','rU'))\n"
   ]
  },
  {
   "cell_type": "code",
   "execution_count": 21,
   "metadata": {},
   "outputs": [
    {
     "name": "stdout",
     "output_type": "stream",
     "text": [
      "133\n",
      "                                                     text  rating  length\n",
      "0       Had an amazing four course dinner here! 1. Wil...     5.0     133\n",
      "1       A Saturday date night with my boyfriend - and ...     4.0     112\n",
      "2       Was able to get a seat at the bar at 1700 with...     5.0      57\n",
      "3       Tasting menu here is delicious! Alexander's pa...     4.0      15\n",
      "4       One of the best fine dining restaurants I've b...     5.0     233\n",
      "5       First, I must confess we had no business being...     4.0     146\n",
      "6       Good food, good service, pricey but for an occ...     4.0     444\n",
      "7       Having been to the Steakhouse in Cupertino, I ...     4.0     409\n",
      "8       Made a reservation the day before and came her...     4.0     303\n",
      "9       ** Upscale restaurant with both steak and seaf...     4.0     199\n",
      "10      This review is for a catered event our company...     2.0     178\n",
      "11      Excellent service and good ambiance makes this...     4.0      70\n",
      "12      The food here was so good! The sea bass really...     4.0      47\n",
      "13      Nobody will complain the food quality or the s...     3.0      95\n",
      "14      Came by for dinner the other night and it was ...     4.0     270\n",
      "15      Service! Service! Service!Food! Food! Food!Wha...     5.0      39\n",
      "16      Food is top-notch. Service has room for improv...     4.0     290\n",
      "17      This place is definitely a good place to bring...     4.0     291\n",
      "18      This place is beautiful. The interior is decor...     5.0     216\n",
      "19      I've heard many good things about the seafood ...     4.0     349\n",
      "20      Alexander's never disappoints. My boyfriend de...     5.0     218\n",
      "21      My sweetheart brought me here for my bday and ...     5.0     189\n",
      "22      Don't get me wrong, the food here is amazing a...     3.0     183\n",
      "23      I didn't love Alexander's Steakhouse, but I do...     4.0     153\n",
      "24      Delicious!  A bit pricey but worth the occasio...     4.0      41\n",
      "25      I have to say the food at Alexander's in SF is...     3.0     460\n",
      "26      Here for a friend's birthday dinner - was expe...     3.0     254\n",
      "27      My boyfriend and I would come here all the tim...     3.0     269\n",
      "28      I can now say I've tried all of the the Alexan...     4.0     255\n",
      "29      Another work event, this time at The Sea.  Fre...     4.0     167\n",
      "...                                                   ...     ...     ...\n",
      "102670  I really had no idea there was a restaurant he...     3.0      99\n",
      "102671  My general rule is to never eat at a hotel res...     3.0      86\n",
      "102672  I wanted to share how pleased I am that Dinah'...     5.0     110\n",
      "102673  I order over easy eggs .....they brought over ...     1.0      40\n",
      "102674  We enjoyed the ambience and the food.     The ...     5.0      29\n",
      "102675  There are two kinds of people in the world...t...     5.0     212\n",
      "102676  Dinah's poolside restaurant is great for every...     5.0      74\n",
      "102677  I became a fan of this restaurant. Indoor or o...     4.0      64\n",
      "102678  I found this place on Yelp after I was in the ...     5.0      64\n",
      "102679  Wow. How is it that I've never been to this pl...     5.0      38\n",
      "102680  Excellent food. This restaurant never fails to...     5.0      62\n",
      "102681  Best happy hour around, great food, great pric...     5.0      47\n",
      "102682  Dreadful service. Today my significant other a...     2.0     307\n",
      "102683  We are staying in the hotel and decided to sto...     3.0     111\n",
      "102684  Came here Friday for dinner for the first time...     4.0     142\n",
      "102685  Currently sitting by the pool with a mimosa in...     5.0      43\n",
      "102686  The food was okay. Not terrible, not amazing. ...     3.0      53\n",
      "102687  I grew up in Los Altos and this has been a hid...     5.0     127\n",
      "102688  I had a wonderful brunch at Dinah's Poolside R...     5.0      57\n",
      "102689  Delicious brunch this morning!  Dinah Mite Ben...     5.0      50\n",
      "102690  My husband and I came for a brunch date on a q...     2.0     332\n",
      "102691  Very very good food. Been staying at the hotel...     4.0      63\n",
      "102692  This was a big disappointment. We are local re...     2.0     138\n",
      "102693  Took my wife here for her bday weekend after d...     5.0      53\n",
      "102694  The setting on a beautiful Fall day is ideal. ...     3.0      81\n",
      "102695  the ambience at Dinah's is really nice, being ...     3.0      86\n",
      "102696  This place is amazing .The food is so fresh an...     5.0     116\n",
      "102697  We spent four nights at Dinah's Hotel with our...     5.0     105\n",
      "102698  I've had dealings with Dinah's Poolside Restau...     5.0     117\n",
      "102699  Poolside dining! Not much more needs to be sai...     5.0      30\n",
      "\n",
      "[102589 rows x 3 columns]\n"
     ]
    }
   ],
   "source": [
    "# df['length'] = df.text.str.len()\n",
    "# print(df)\n",
    "def pre_process(df):\n",
    "    new_df = df\n",
    "    # Extract reviews and ratings\n",
    "    new_df = new_df[['text', 'rating']]\n",
    "    \n",
    "    # remove invalid rows with \",text,rating\"\n",
    "    new_df = new_df[new_df.rating.astype(str).str.contains(\"rating\") == False]\n",
    "\n",
    "    # convert rating values to float\n",
    "    new_df['rating'] = new_df['rating'].astype(float).fillna(0)\n",
    "    # add length column to record word count of reviews\n",
    "    new_df['length'] = new_df['text'].astype(str).apply(word_count)\n",
    "    print(new_df.iloc[0].length)\n",
    "    \n",
    "    # remove punctations\n",
    "    \n",
    "    return new_df\n",
    "    \n",
    "def word_count(str):\n",
    "    return len(str.split())\n",
    "\n",
    "df = pre_process(df)\n",
    "print(df)"
   ]
  },
  {
   "cell_type": "code",
   "execution_count": 22,
   "metadata": {
    "scrolled": true
   },
   "outputs": [
    {
     "data": {
      "image/png": "[encoded data removed]",
      "text/plain": [
       "<matplotlib.figure.Figure at 0x1a234aaef0>"
      ]
     },
     "metadata": {},
     "output_type": "display_data"
    }
   ],
   "source": [
    "import seaborn as sns\n",
    "import nltk\n",
    "from nltk.corpus import stopwords\n",
    "import matplotlib.pyplot as plt\n",
    "\n",
    "g = sns.FacetGrid(data=df, col='rating')\n",
    "g.map(plt.hist, 'length', bins=25)\n",
    "plt.show()"
   ]
  },
  {
   "cell_type": "code",
   "execution_count": 25,
   "metadata": {},
   "outputs": [],
   "source": [
    "five = df[(df.rating >= 1.0)]\n",
    "# print(binary)\n",
    "X = five.text\n",
    "y = five.rating\n",
    "\n",
    "import string\n",
    "\n",
    "# remove stopwords, punctuations, to lower case\n",
    "def text_process(text):\n",
    "    nopunc = [char for char in text if char not in string.punctuation]\n",
    "    nopunc = ''.join(nopunc)\n",
    "    \n",
    "    return [word for word in nopunc.split() if word.lower() not in stopwords.words('english')]\n",
    "\n",
    "from sklearn.feature_extraction.text import CountVectorizer\n",
    "bow_transformer = CountVectorizer(analyzer=text_process).fit(X)\n",
    "\n"
   ]
  },
  {
   "cell_type": "code",
   "execution_count": 29,
   "metadata": {},
   "outputs": [],
   "source": [
    "import pickle\n",
    "\n",
    "filehandler = open('bow_transformer', 'wb')\n",
    "pickle.dump(bow_transformer, filehandler)\n",
    "filehandler.close()\n"
   ]
  },
  {
   "cell_type": "code",
   "execution_count": null,
   "metadata": {
    "collapsed": true
   },
   "outputs": [],
   "source": [
    "filehandler = open('bow_transformer', 'rb')\n",
    "bow_transformer = pickle.load(filehandler)\n",
    "filehandler.close()"
   ]
  },
  {
   "cell_type": "code",
   "execution_count": 80,
   "metadata": {},
   "outputs": [],
   "source": [
    "binary = df[(df.rating == 1.0) | (df.rating == 5.0)]\n",
    "# print(binary)\n",
    "X = binary.text\n",
    "y = binary.rating\n",
    "\n",
    "import string\n",
    "def text_process(text):\n",
    "    nopunc = [char for char in text if char not in string.punctuation]\n",
    "    nopunc = ''.join(nopunc)\n",
    "    \n",
    "    return [word for word in nopunc.split() if word.lower() not in stopwords.words('english')]\n",
    "\n",
    "from sklearn.feature_extraction.text import CountVectorizer\n",
    "bow_transformer_binary = CountVectorizer(analyzer=text_process).fit(X)\n"
   ]
  },
  {
   "cell_type": "code",
   "execution_count": null,
   "metadata": {
    "collapsed": true
   },
   "outputs": [],
   "source": [
    "filehandler = open('bow_transformer_binary', 'wb')\n",
    "pickle.dump(bow_transformer_binary, filehandler)\n",
    "filehandler.close()"
   ]
  },
  {
   "cell_type": "code",
   "execution_count": 31,
   "metadata": {},
   "outputs": [
    {
     "name": "stdout",
     "output_type": "stream",
     "text": [
      "To be honest, I think Alexander's Steakhouse should just stick to what they do best, making excellent juicy steaks. I came here to take my mom out to a nice Mother's Day meal. I wasn't too impressed with the seafood entree options. Here is a breakdown of what we ordered:Appetizers:- Lobster Rocks: This was my 2nd favorite dish out of the whole meal! It's tempura fried lobster tossed in squid ink (hence why it's black as \"rocks\"). Super delicious and highly recommend- Grilled Octopus: Soft and tender but nothing too surprising. - Hamachi shot: We only ordered one to share with me and my mom but it was delicious! Also highly recommend. Entrees: So we actually wanted to order the Black Sea Bass but it was sold out. Since there wasn't that many options to choose from, we decided to order two Seared Mero prepared two different ways, one Sea Bass way and one regular way. We also ordered the Flat Iron Wagyu Steak. My family all agree that the Mero prepared the Sea Bass was much better than the Mero prepared regularly. But the waygu steak outshone everything with the flavors and tenderness (most favorite dish). Dessert:- Pretty in Pink: It was really sweet that I got sick of the flavors really fast. A pretty dessert but nothing worthwhile. - Lemon Souffle: This tasted like Fruity Loops cereal LOL. I definitely would prefer Alexander's Steakhouse Mocha Souffle over this any day. Overall, ambiance and service is amazing but I think I would rather use the money spent here on a tasting menu somewhere else that has better food.\n",
      "  (0, 2784)\t1\n",
      "  (0, 7314)\t2\n",
      "  (0, 7459)\t1\n",
      "  (0, 10181)\t3\n",
      "  (0, 10977)\t1\n",
      "  (0, 16936)\t1\n",
      "  (0, 17379)\t1\n",
      "  (0, 19118)\t1\n",
      "  (0, 20839)\t1\n",
      "  (0, 21619)\t1\n",
      "  (0, 23093)\t1\n",
      "  (0, 23836)\t1\n",
      "  (0, 25778)\t1\n",
      "  (0, 27981)\t1\n",
      "  (0, 28514)\t1\n",
      "  (0, 28791)\t1\n",
      "  (0, 28915)\t1\n",
      "  (0, 31037)\t3\n",
      "  (0, 31685)\t1\n",
      "  (0, 32025)\t1\n",
      "  (0, 34051)\t1\n",
      "  (0, 34748)\t1\n",
      "  (0, 36695)\t1\n",
      "  (0, 37425)\t1\n",
      "  (0, 39338)\t1\n",
      "  :\t:\n",
      "  (0, 169111)\t1\n",
      "  (0, 170120)\t1\n",
      "  (0, 171516)\t1\n",
      "  (0, 171633)\t1\n",
      "  (0, 171833)\t1\n",
      "  (0, 174329)\t1\n",
      "  (0, 174667)\t1\n",
      "  (0, 175720)\t1\n",
      "  (0, 176476)\t1\n",
      "  (0, 176675)\t1\n",
      "  (0, 177560)\t1\n",
      "  (0, 177599)\t1\n",
      "  (0, 177698)\t1\n",
      "  (0, 179598)\t2\n",
      "  (0, 183184)\t1\n",
      "  (0, 184936)\t2\n",
      "  (0, 187239)\t1\n",
      "  (0, 189959)\t1\n",
      "  (0, 190341)\t2\n",
      "  (0, 190666)\t2\n",
      "  (0, 190780)\t1\n",
      "  (0, 190796)\t1\n",
      "  (0, 192540)\t1\n",
      "  (0, 194090)\t1\n",
      "  (0, 194112)\t2\n"
     ]
    }
   ],
   "source": [
    "review_25 = X.iloc[54]\n",
    "print(review_25)\n",
    "bow_25 = bow_transformer.transform([review_25])\n",
    "print(bow_25)"
   ]
  },
  {
   "cell_type": "code",
   "execution_count": 32,
   "metadata": {
    "collapsed": true
   },
   "outputs": [],
   "source": [
    "X_ = bow_transformer.transform(X)"
   ]
  },
  {
   "cell_type": "code",
   "execution_count": 35,
   "metadata": {},
   "outputs": [
    {
     "name": "stdout",
     "output_type": "stream",
     "text": [
      "  (0, 132)\t1\n",
      "  (0, 4744)\t1\n",
      "  (0, 5910)\t1\n",
      "  (0, 6696)\t1\n",
      "  (0, 9132)\t1\n",
      "  (0, 14114)\t1\n",
      "  (0, 19919)\t1\n",
      "  (0, 20160)\t1\n",
      "  (0, 23353)\t1\n",
      "  (0, 24013)\t2\n",
      "  (0, 25158)\t1\n",
      "  (0, 29382)\t1\n",
      "  (0, 29614)\t1\n",
      "  (0, 40170)\t1\n",
      "  (0, 43989)\t1\n",
      "  (0, 44811)\t1\n",
      "  (0, 45184)\t1\n",
      "  (0, 48568)\t1\n",
      "  (0, 49456)\t2\n",
      "  (0, 49492)\t1\n",
      "  (0, 52019)\t1\n",
      "  (0, 54195)\t2\n",
      "  (0, 54447)\t1\n",
      "  (0, 55023)\t1\n",
      "  (0, 58656)\t1\n",
      "  :\t:\n",
      "  (102567, 167766)\t1\n",
      "  (102567, 168712)\t1\n",
      "  (102567, 170214)\t1\n",
      "  (102567, 171747)\t1\n",
      "  (102567, 180759)\t1\n",
      "  (102567, 183414)\t1\n",
      "  (102567, 187090)\t1\n",
      "  (102567, 190039)\t1\n",
      "  (102567, 193930)\t1\n",
      "  (102568, 37115)\t1\n",
      "  (102568, 54195)\t1\n",
      "  (102568, 78127)\t1\n",
      "  (102568, 79322)\t1\n",
      "  (102568, 81826)\t1\n",
      "  (102568, 84335)\t1\n",
      "  (102568, 98449)\t1\n",
      "  (102568, 104005)\t1\n",
      "  (102568, 111660)\t1\n",
      "  (102568, 115679)\t1\n",
      "  (102568, 130796)\t1\n",
      "  (102568, 132128)\t1\n",
      "  (102568, 132238)\t1\n",
      "  (102568, 146994)\t1\n",
      "  (102568, 152273)\t1\n",
      "  (102568, 158047)\t1\n"
     ]
    }
   ],
   "source": [
    "print(X_)\n",
    "\n",
    "filehandler = open('X_', 'wb')\n",
    "pickle.dump(X_, filehandler)\n",
    "filehandler.close()"
   ]
  },
  {
   "cell_type": "code",
   "execution_count": 36,
   "metadata": {},
   "outputs": [
    {
     "name": "stdout",
     "output_type": "stream",
     "text": [
      "  (0, 132)\t1\n",
      "  (0, 4744)\t1\n",
      "  (0, 5910)\t1\n",
      "  (0, 6696)\t1\n",
      "  (0, 9132)\t1\n",
      "  (0, 14114)\t1\n",
      "  (0, 19919)\t1\n",
      "  (0, 20160)\t1\n",
      "  (0, 23353)\t1\n",
      "  (0, 24013)\t2\n",
      "  (0, 25158)\t1\n",
      "  (0, 29382)\t1\n",
      "  (0, 29614)\t1\n",
      "  (0, 40170)\t1\n",
      "  (0, 43989)\t1\n",
      "  (0, 44811)\t1\n",
      "  (0, 45184)\t1\n",
      "  (0, 48568)\t1\n",
      "  (0, 49456)\t2\n",
      "  (0, 49492)\t1\n",
      "  (0, 52019)\t1\n",
      "  (0, 54195)\t2\n",
      "  (0, 54447)\t1\n",
      "  (0, 55023)\t1\n",
      "  (0, 58656)\t1\n",
      "  :\t:\n",
      "  (102567, 167766)\t1\n",
      "  (102567, 168712)\t1\n",
      "  (102567, 170214)\t1\n",
      "  (102567, 171747)\t1\n",
      "  (102567, 180759)\t1\n",
      "  (102567, 183414)\t1\n",
      "  (102567, 187090)\t1\n",
      "  (102567, 190039)\t1\n",
      "  (102567, 193930)\t1\n",
      "  (102568, 37115)\t1\n",
      "  (102568, 54195)\t1\n",
      "  (102568, 78127)\t1\n",
      "  (102568, 79322)\t1\n",
      "  (102568, 81826)\t1\n",
      "  (102568, 84335)\t1\n",
      "  (102568, 98449)\t1\n",
      "  (102568, 104005)\t1\n",
      "  (102568, 111660)\t1\n",
      "  (102568, 115679)\t1\n",
      "  (102568, 130796)\t1\n",
      "  (102568, 132128)\t1\n",
      "  (102568, 132238)\t1\n",
      "  (102568, 146994)\t1\n",
      "  (102568, 152273)\t1\n",
      "  (102568, 158047)\t1\n"
     ]
    }
   ],
   "source": [
    "X_ = 0\n",
    "\n",
    "filehandler = open('X_', 'rb')\n",
    "X_ = pickle.load(filehandler)\n",
    "filehandler.close()\n",
    "\n",
    "print(X_)"
   ]
  },
  {
   "cell_type": "markdown",
   "metadata": {
    "collapsed": true
   },
   "source": [
    "## Train the Model"
   ]
  },
  {
   "cell_type": "code",
   "execution_count": 37,
   "metadata": {
    "collapsed": true
   },
   "outputs": [],
   "source": [
    "from sklearn.model_selection import train_test_split\n",
    "X_train, X_test, y_train, y_test = train_test_split(X_, y, test_size=0.3, random_state=101)"
   ]
  },
  {
   "cell_type": "markdown",
   "metadata": {},
   "source": [
    "### Train by naive bayes"
   ]
  },
  {
   "cell_type": "code",
   "execution_count": 38,
   "metadata": {},
   "outputs": [
    {
     "data": {
      "text/plain": [
       "MultinomialNB(alpha=1.0, class_prior=None, fit_prior=True)"
      ]
     },
     "execution_count": 38,
     "metadata": {},
     "output_type": "execute_result"
    }
   ],
   "source": [
    "from sklearn.naive_bayes import MultinomialNB\n",
    "nb = MultinomialNB()\n",
    "nb.fit(X_train, y_train)"
   ]
  },
  {
   "cell_type": "code",
   "execution_count": 53,
   "metadata": {},
   "outputs": [
    {
     "name": "stdout",
     "output_type": "stream",
     "text": [
      "{'alpha': 1.0, 'class_prior': None, 'fit_prior': True}\n",
      "30771\n",
      "30771\n",
      "[[  9.24874219e-08   1.24937665e-05   7.40077841e-03   9.59162946e-01\n",
      "    3.34236889e-02]\n",
      " [  1.22020291e-23   1.38762562e-15   1.60536409e-07   1.62801380e-01\n",
      "    8.37198459e-01]\n",
      " [  1.58398813e-08   1.46508117e-05   6.98680307e-03   4.37674256e-01\n",
      "    5.55324274e-01]\n",
      " ..., \n",
      " [  2.75175264e-01   2.27358091e-01   2.41369462e-01   1.99769031e-01\n",
      "    5.63281526e-02]\n",
      " [  1.60504473e-89   4.60054631e-57   6.14049072e-28   2.47533030e-03\n",
      "    9.97524670e-01]\n",
      " [  2.05082303e-10   1.94983610e-10   5.09738566e-09   4.57834406e-05\n",
      "    9.99954211e-01]]\n"
     ]
    }
   ],
   "source": [
    "print(nb.get_params())\n",
    "print(X_test.shape[0])\n",
    "print((nb.predict_log_proba(X_test)).shape[0])\n",
    "print(nb.predict_proba(X_test))"
   ]
  },
  {
   "cell_type": "markdown",
   "metadata": {},
   "source": [
    "### Predict"
   ]
  },
  {
   "cell_type": "code",
   "execution_count": 39,
   "metadata": {
    "collapsed": true
   },
   "outputs": [],
   "source": [
    "preds = nb.predict(X_test)"
   ]
  },
  {
   "cell_type": "code",
   "execution_count": 57,
   "metadata": {},
   "outputs": [
    {
     "name": "stdout",
     "output_type": "stream",
     "text": [
      "[ 4.  5.  5. ...,  1.  5.  5.]\n"
     ]
    }
   ],
   "source": [
    "print(preds)"
   ]
  },
  {
   "cell_type": "code",
   "execution_count": 75,
   "metadata": {},
   "outputs": [
    {
     "name": "stdout",
     "output_type": "stream",
     "text": [
      "1807\n",
      "2542\n",
      "5030\n",
      "10702\n",
      "10690\n",
      "[2.4084117321527394, 3.2521636506687646, 3.7240556660039763, 4.2156606241823962, 4.6597754911131899]\n"
     ]
    }
   ],
   "source": [
    "pred_1 = [preds[index] for index, value in enumerate(y_test) if value == 1.0]\n",
    "pred_1_avg = np.mean(pred_1)\n",
    "print(len(pred_1))\n",
    "pred_2 = [preds[index] for index, value in enumerate(y_test) if value == 2.0]\n",
    "pred_2_avg = np.mean(pred_2)\n",
    "print(len(pred_2))\n",
    "pred_3 = [preds[index] for index, value in enumerate(y_test) if value == 3.0]\n",
    "pred_3_avg = np.mean(pred_3)\n",
    "print(len(pred_3))\n",
    "pred_4 = [preds[index] for index, value in enumerate(y_test) if value == 4.0]\n",
    "pred_4_avg = np.mean(pred_4)\n",
    "print(len(pred_4))\n",
    "pred_5 = [preds[index] for index, value in enumerate(y_test) if value == 5.0]\n",
    "pred_5_avg = np.mean(pred_5)\n",
    "print(len(pred_5))\n",
    "\n",
    "pred_avg = [pred_1_avg, pred_2_avg, pred_3_avg, pred_4_avg, pred_5_avg]\n",
    "print(pred_avg)\n",
    "\n",
    "\n"
   ]
  },
  {
   "cell_type": "code",
   "execution_count": 79,
   "metadata": {},
   "outputs": [
    {
     "data": {
      "image/png": "[encoded data removed]",
      "text/plain": [
       "<matplotlib.figure.Figure at 0x1a229eaa58>"
      ]
     },
     "metadata": {},
     "output_type": "display_data"
    }
   ],
   "source": [
    "fig, ax = plt.subplots()\n",
    "\n",
    "n_groups = 5\n",
    "\n",
    "means_men = pred_avg\n",
    "means_women = [1,2,3,4,5]\n",
    "\n",
    "index = np.arange(n_groups)\n",
    "bar_width = 0.35\n",
    "\n",
    "error_config = {'ecolor': '0.3'}\n",
    "\n",
    "rects1 = ax.bar(index, means_men, bar_width,color='g', label='Prediction')\n",
    "\n",
    "rects2 = ax.bar(index + bar_width, means_women, bar_width, color='c', label='Ground Truth')\n",
    "\n",
    "ax.set_xlabel('Groups')\n",
    "ax.set_ylabel('Ratings')\n",
    "ax.set_title('Rating comparision between prediction and groundtruth')\n",
    "ax.set_xticks(index + bar_width / 2)\n",
    "ax.set_xticklabels(('1', '2', '3', '4', '5'))\n",
    "ax.legend()\n",
    "\n",
    "fig.tight_layout()\n",
    "plt.savefig(\"prediction.png\")\n",
    "plt.show()"
   ]
  },
  {
   "cell_type": "code",
   "execution_count": 68,
   "metadata": {},
   "outputs": [
    {
     "name": "stdout",
     "output_type": "stream",
     "text": [
      "50\n"
     ]
    },
    {
     "data": {
      "image/png": "[encoded data removed]",
      "text/plain": [
       "<matplotlib.figure.Figure at 0x110e0fd30>"
      ]
     },
     "metadata": {},
     "output_type": "display_data"
    }
   ],
   "source": [
    "fig, ax = plt.subplots()\n",
    "\n",
    "n_groups = 50\n",
    "\n",
    "means_men = preds[:50]\n",
    "print(len(means_men))\n",
    "\n",
    "\n",
    "means_women = y_test[:50]\n",
    "\n",
    "\n",
    "index = np.arange(n_groups)\n",
    "bar_width = 0.35\n",
    "\n",
    "error_config = {'ecolor': '0.3'}\n",
    "\n",
    "rects1 = ax.bar(index, means_men, bar_width,color='y', label='Men')\n",
    "\n",
    "rects2 = ax.bar(index + bar_width, means_women, bar_width, color='c', label='Women')\n",
    "\n",
    "ax.set_xlabel('Group')\n",
    "ax.set_ylabel('Scores')\n",
    "ax.set_title('Scores by group and gender')\n",
    "ax.set_xticks(index + bar_width / 2)\n",
    "ax.set_xticklabels(('A', 'B', 'C', 'D', 'E'))\n",
    "ax.legend()\n",
    "\n",
    "fig.tight_layout()\n",
    "plt.show()"
   ]
  },
  {
   "cell_type": "markdown",
   "metadata": {},
   "source": [
    "### Evaluate"
   ]
  },
  {
   "cell_type": "code",
   "execution_count": 40,
   "metadata": {},
   "outputs": [
    {
     "name": "stdout",
     "output_type": "stream",
     "text": [
      "[[ 656  290  432  325  104]\n",
      " [ 192  217 1050  924  159]\n",
      " [  64   95 1316 3245  310]\n",
      " [  33   30  369 7434 2836]\n",
      " [  17   13   66 3398 7196]]\n",
      "\n",
      "\n",
      "             precision    recall  f1-score   support\n",
      "\n",
      "        1.0       0.68      0.36      0.47      1807\n",
      "        2.0       0.34      0.09      0.14      2542\n",
      "        3.0       0.41      0.26      0.32      5030\n",
      "        4.0       0.49      0.69      0.57     10702\n",
      "        5.0       0.68      0.67      0.68     10690\n",
      "\n",
      "avg / total       0.54      0.55      0.52     30771\n",
      "\n"
     ]
    }
   ],
   "source": [
    "from sklearn.metrics import confusion_matrix, classification_report\n",
    "print(confusion_matrix(y_test, preds))\n",
    "print('\\n')\n",
    "print(classification_report(y_test, preds)) "
   ]
  },
  {
   "cell_type": "code",
   "execution_count": 45,
   "metadata": {},
   "outputs": [
    {
     "name": "stdout",
     "output_type": "stream",
     "text": [
      "962\n",
      "645\n",
      "3233\n",
      "15326\n",
      "10605\n",
      "1807\n",
      "2542\n",
      "5030\n",
      "10702\n",
      "10690\n",
      "0.559000357479\n"
     ]
    }
   ],
   "source": [
    "print(len(preds[preds == 1.0]))\n",
    "print(len(preds[preds == 2.0]))\n",
    "print(len(preds[preds == 3.0]))\n",
    "print(len(preds[preds == 4.0]))\n",
    "print(len(preds[preds == 5.0]))\n",
    "\n",
    "import numpy as np\n",
    "y_test_ = np.array(y_test.tolist())\n",
    "print(len(y_test_[y_test_ == 1.0]))\n",
    "print(len(y_test_[y_test_ == 2.0]))\n",
    "print(len(y_test_[y_test_ == 3.0]))\n",
    "print(len(y_test_[y_test_ == 4.0]))\n",
    "print(len(y_test_[y_test_ == 5.0]))\n",
    "\n",
    "import numpy as np\n",
    "print(np.average(np.absolute(preds - y_test)))"
   ]
  },
  {
   "cell_type": "markdown",
   "metadata": {},
   "source": [
    "## SVM"
   ]
  },
  {
   "cell_type": "code",
   "execution_count": 54,
   "metadata": {},
   "outputs": [
    {
     "data": {
      "text/plain": [
       "SVC(C=1.0, cache_size=200, class_weight=None, coef0=0.0,\n",
       "  decision_function_shape='ovr', degree=3, gamma='auto', kernel='rbf',\n",
       "  max_iter=-1, probability=False, random_state=None, shrinking=True,\n",
       "  tol=0.001, verbose=False)"
      ]
     },
     "execution_count": 54,
     "metadata": {},
     "output_type": "execute_result"
    }
   ],
   "source": [
    "from sklearn.svm import SVC\n",
    "clf = SVC()\n",
    "clf.fit(X_train, y_train)"
   ]
  },
  {
   "cell_type": "code",
   "execution_count": 55,
   "metadata": {},
   "outputs": [
    {
     "name": "stdout",
     "output_type": "stream",
     "text": [
      "[ 4.  4.  4. ...,  4.  4.  4.]\n"
     ]
    }
   ],
   "source": [
    " SVC(C=1.0, cache_size=200, class_weight=None, coef0=0.0,\n",
    "    decision_function_shape='ovr', degree=3, gamma='auto', kernel='rbf',\n",
    "    max_iter=-1, probability=False, random_state=None, shrinking=True,\n",
    "    tol=0.001, verbose=False)\n",
    "\n",
    "print(clf.predict(X_test))"
   ]
  },
  {
   "cell_type": "code",
   "execution_count": null,
   "metadata": {
    "collapsed": true
   },
   "outputs": [],
   "source": []
  }
 ],
 "metadata": {
  "kernelspec": {
   "display_name": "Python 3",
   "language": "python",
   "name": "python3"
  },
  "language_info": {
   "codemirror_mode": {
    "name": "ipython",
    "version": 3
   },
   "file_extension": ".py",
   "mimetype": "text/x-python",
   "name": "python",
   "nbconvert_exporter": "python",
   "pygments_lexer": "ipython3",
   "version": "3.6.3"
  }
 },
 "nbformat": 4,
 "nbformat_minor": 2
}
