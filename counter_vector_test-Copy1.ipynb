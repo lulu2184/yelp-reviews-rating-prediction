{
 "cells": [
  {
   "cell_type": "markdown",
   "metadata": {},
   "source": [
    "# Rating Predictor for Yelp Reviews"
   ]
  },
  {
   "cell_type": "code",
   "execution_count": 1,
   "metadata": {
    "collapsed": true
   },
   "outputs": [],
   "source": [
    "# Import libraries\n",
    "import requests\n",
    "import json\n",
    "import time\n",
    "import pandas as pd\n",
    "from bs4 import BeautifulSoup"
   ]
  },
  {
   "cell_type": "markdown",
   "metadata": {
    "collapsed": true
   },
   "source": [
    "## Feature Extraction"
   ]
  },
  {
   "cell_type": "code",
   "execution_count": 2,
   "metadata": {},
   "outputs": [
    {
     "name": "stderr",
     "output_type": "stream",
     "text": [
      "/anaconda3/lib/python3.6/site-packages/ipykernel_launcher.py:2: DeprecationWarning: 'U' mode is deprecated\n",
      "  \n"
     ]
    }
   ],
   "source": [
    "# df = pd.read_csv(open('reviews.csv','rU'), header = None)\n",
    "df = pd.read_csv(open('reviews.csv','rU'))\n"
   ]
  },
  {
   "cell_type": "code",
   "execution_count": 3,
   "metadata": {},
   "outputs": [
    {
     "name": "stdout",
     "output_type": "stream",
     "text": [
      "133\n",
      "                                                     text  rating  length\n",
      "0       Had an amazing four course dinner here! 1. Wil...     5.0     133\n",
      "1       A Saturday date night with my boyfriend - and ...     4.0     112\n",
      "2       Was able to get a seat at the bar at 1700 with...     5.0      57\n",
      "3       Tasting menu here is delicious! Alexander's pa...     4.0      15\n",
      "4       One of the best fine dining restaurants I've b...     5.0     233\n",
      "5       First, I must confess we had no business being...     4.0     146\n",
      "6       Good food, good service, pricey but for an occ...     4.0     444\n",
      "7       Having been to the Steakhouse in Cupertino, I ...     4.0     409\n",
      "8       Made a reservation the day before and came her...     4.0     303\n",
      "9       ** Upscale restaurant with both steak and seaf...     4.0     199\n",
      "10      This review is for a catered event our company...     2.0     178\n",
      "11      Excellent service and good ambiance makes this...     4.0      70\n",
      "12      The food here was so good! The sea bass really...     4.0      47\n",
      "13      Nobody will complain the food quality or the s...     3.0      95\n",
      "14      Came by for dinner the other night and it was ...     4.0     270\n",
      "15      Service! Service! Service!Food! Food! Food!Wha...     5.0      39\n",
      "16      Food is top-notch. Service has room for improv...     4.0     290\n",
      "17      This place is definitely a good place to bring...     4.0     291\n",
      "18      This place is beautiful. The interior is decor...     5.0     216\n",
      "19      I've heard many good things about the seafood ...     4.0     349\n",
      "20      Alexander's never disappoints. My boyfriend de...     5.0     218\n",
      "21      My sweetheart brought me here for my bday and ...     5.0     189\n",
      "22      Don't get me wrong, the food here is amazing a...     3.0     183\n",
      "23      I didn't love Alexander's Steakhouse, but I do...     4.0     153\n",
      "24      Delicious!  A bit pricey but worth the occasio...     4.0      41\n",
      "25      I have to say the food at Alexander's in SF is...     3.0     460\n",
      "26      Here for a friend's birthday dinner - was expe...     3.0     254\n",
      "27      My boyfriend and I would come here all the tim...     3.0     269\n",
      "28      I can now say I've tried all of the the Alexan...     4.0     255\n",
      "29      Another work event, this time at The Sea.  Fre...     4.0     167\n",
      "...                                                   ...     ...     ...\n",
      "188071                                                NaN     0.0       1\n",
      "188072                                                NaN     0.0       1\n",
      "188073                                                NaN     0.0       1\n",
      "188074                                                NaN     0.0       1\n",
      "188075                                                NaN     0.0       1\n",
      "188076                                                NaN     0.0       1\n",
      "188077                                                NaN     0.0       1\n",
      "188078                                                NaN     0.0       1\n",
      "188079                                                NaN     0.0       1\n",
      "188080                                                NaN     0.0       1\n",
      "188081                                                NaN     0.0       1\n",
      "188082                                                NaN     0.0       1\n",
      "188083                                                NaN     0.0       1\n",
      "188084                                                NaN     0.0       1\n",
      "188085                                                NaN     0.0       1\n",
      "188086                                                NaN     0.0       1\n",
      "188087                                                NaN     0.0       1\n",
      "188088                                                NaN     0.0       1\n",
      "188089                                                NaN     0.0       1\n",
      "188090                                                NaN     0.0       1\n",
      "188091                                                NaN     0.0       1\n",
      "188092                                                NaN     0.0       1\n",
      "188093                                                NaN     0.0       1\n",
      "188094                                                NaN     0.0       1\n",
      "188095                                                NaN     0.0       1\n",
      "188096                                                NaN     0.0       1\n",
      "188097                                                NaN     0.0       1\n",
      "188098                                                NaN     0.0       1\n",
      "188099                                                NaN     0.0       1\n",
      "188100                                                NaN     0.0       1\n",
      "\n",
      "[187864 rows x 3 columns]\n"
     ]
    }
   ],
   "source": [
    "# df['length'] = df.text.str.len()\n",
    "# print(df)\n",
    "def pre_process(df):\n",
    "    new_df = df\n",
    "    # Extract reviews and ratings\n",
    "    new_df = new_df[['text', 'rating']]\n",
    "    \n",
    "    # remove invalid rows with \",text,rating\"\n",
    "    new_df = new_df[new_df.rating.astype(str).str.contains(\"rating\") == False]\n",
    "\n",
    "    # convert rating values to float\n",
    "    new_df['rating'] = new_df['rating'].astype(float).fillna(0)\n",
    "    # add length column to record word count of reviews\n",
    "    new_df['length'] = new_df['text'].astype(str).apply(word_count)\n",
    "    print(new_df.iloc[0].length)\n",
    "    \n",
    "    # remove punctations\n",
    "    \n",
    "    return new_df\n",
    "    \n",
    "def word_count(str):\n",
    "    return len(str.split())\n",
    "\n",
    "df = pre_process(df)\n",
    "print(df)"
   ]
  },
  {
   "cell_type": "code",
   "execution_count": 25,
   "metadata": {
    "collapsed": true
   },
   "outputs": [],
   "source": [
    "five = df[(df.rating >= 1.0)]\n",
    "# print(binary)\n",
    "X = five.text\n",
    "y = five.rating\n",
    "\n",
    "import string\n",
    "\n",
    "# remove stopwords, punctuations, to lower case\n",
    "def text_process(text):\n",
    "    nopunc = [char for char in text if char not in string.punctuation]\n",
    "    nopunc = ''.join(nopunc)\n",
    "    \n",
    "    return [word for word in nopunc.split() if word.lower() not in stopwords.words('english')]\n",
    "\n",
    "from sklearn.feature_extraction.text import CountVectorizer\n",
    "bow_transformer = CountVectorizer(analyzer=text_process).fit(X)\n",
    "\n",
    "import pickle\n",
    "\n",
    "filehandler = open('bow_transformer', 'wb')\n",
    "pickle.dump(bow_transformer, filehandler)\n",
    "filehandler.close()"
   ]
  },
  {
   "cell_type": "code",
   "execution_count": 29,
   "metadata": {
    "collapsed": true
   },
   "outputs": [],
   "source": [
    "import pickle\n",
    "\n",
    "filehandler = open('bow_transformer', 'wb')\n",
    "pickle.dump(bow_transformer, filehandler)\n",
    "filehandler.close()\n"
   ]
  },
  {
   "cell_type": "code",
   "execution_count": null,
   "metadata": {
    "collapsed": true
   },
   "outputs": [],
   "source": [
    "filehandler = open('bow_transformer', 'rb')\n",
    "bow_transformer = pickle.load(filehandler)\n",
    "filehandler.close()"
   ]
  },
  {
   "cell_type": "code",
   "execution_count": 80,
   "metadata": {
    "collapsed": true
   },
   "outputs": [],
   "source": [
    "binary = df[(df.rating == 1.0) | (df.rating == 5.0)]\n",
    "# print(binary)\n",
    "X = binary.text\n",
    "y = binary.rating\n",
    "\n",
    "import string\n",
    "def text_process(text):\n",
    "    nopunc = [char for char in text if char not in string.punctuation]\n",
    "    nopunc = ''.join(nopunc)\n",
    "    \n",
    "    return [word for word in nopunc.split() if word.lower() not in stopwords.words('english')]\n",
    "\n",
    "from sklearn.feature_extraction.text import CountVectorizer\n",
    "bow_transformer_binary = CountVectorizer(analyzer=text_process).fit(X)\n"
   ]
  },
  {
   "cell_type": "code",
   "execution_count": null,
   "metadata": {
    "collapsed": true
   },
   "outputs": [],
   "source": [
    "filehandler = open('bow_transformer_binary', 'wb')\n",
    "pickle.dump(bow_transformer_binary, filehandler)\n",
    "filehandler.close()"
   ]
  },
  {
   "cell_type": "code",
   "execution_count": 31,
   "metadata": {},
   "outputs": [
    {
     "name": "stdout",
     "output_type": "stream",
     "text": [
      "To be honest, I think Alexander's Steakhouse should just stick to what they do best, making excellent juicy steaks. I came here to take my mom out to a nice Mother's Day meal. I wasn't too impressed with the seafood entree options. Here is a breakdown of what we ordered:Appetizers:- Lobster Rocks: This was my 2nd favorite dish out of the whole meal! It's tempura fried lobster tossed in squid ink (hence why it's black as \"rocks\"). Super delicious and highly recommend- Grilled Octopus: Soft and tender but nothing too surprising. - Hamachi shot: We only ordered one to share with me and my mom but it was delicious! Also highly recommend. Entrees: So we actually wanted to order the Black Sea Bass but it was sold out. Since there wasn't that many options to choose from, we decided to order two Seared Mero prepared two different ways, one Sea Bass way and one regular way. We also ordered the Flat Iron Wagyu Steak. My family all agree that the Mero prepared the Sea Bass was much better than the Mero prepared regularly. But the waygu steak outshone everything with the flavors and tenderness (most favorite dish). Dessert:- Pretty in Pink: It was really sweet that I got sick of the flavors really fast. A pretty dessert but nothing worthwhile. - Lemon Souffle: This tasted like Fruity Loops cereal LOL. I definitely would prefer Alexander's Steakhouse Mocha Souffle over this any day. Overall, ambiance and service is amazing but I think I would rather use the money spent here on a tasting menu somewhere else that has better food.\n",
      "  (0, 2784)\t1\n",
      "  (0, 7314)\t2\n",
      "  (0, 7459)\t1\n",
      "  (0, 10181)\t3\n",
      "  (0, 10977)\t1\n",
      "  (0, 16936)\t1\n",
      "  (0, 17379)\t1\n",
      "  (0, 19118)\t1\n",
      "  (0, 20839)\t1\n",
      "  (0, 21619)\t1\n",
      "  (0, 23093)\t1\n",
      "  (0, 23836)\t1\n",
      "  (0, 25778)\t1\n",
      "  (0, 27981)\t1\n",
      "  (0, 28514)\t1\n",
      "  (0, 28791)\t1\n",
      "  (0, 28915)\t1\n",
      "  (0, 31037)\t3\n",
      "  (0, 31685)\t1\n",
      "  (0, 32025)\t1\n",
      "  (0, 34051)\t1\n",
      "  (0, 34748)\t1\n",
      "  (0, 36695)\t1\n",
      "  (0, 37425)\t1\n",
      "  (0, 39338)\t1\n",
      "  :\t:\n",
      "  (0, 169111)\t1\n",
      "  (0, 170120)\t1\n",
      "  (0, 171516)\t1\n",
      "  (0, 171633)\t1\n",
      "  (0, 171833)\t1\n",
      "  (0, 174329)\t1\n",
      "  (0, 174667)\t1\n",
      "  (0, 175720)\t1\n",
      "  (0, 176476)\t1\n",
      "  (0, 176675)\t1\n",
      "  (0, 177560)\t1\n",
      "  (0, 177599)\t1\n",
      "  (0, 177698)\t1\n",
      "  (0, 179598)\t2\n",
      "  (0, 183184)\t1\n",
      "  (0, 184936)\t2\n",
      "  (0, 187239)\t1\n",
      "  (0, 189959)\t1\n",
      "  (0, 190341)\t2\n",
      "  (0, 190666)\t2\n",
      "  (0, 190780)\t1\n",
      "  (0, 190796)\t1\n",
      "  (0, 192540)\t1\n",
      "  (0, 194090)\t1\n",
      "  (0, 194112)\t2\n"
     ]
    }
   ],
   "source": [
    "review_25 = X.iloc[54]\n",
    "print(review_25)\n",
    "bow_25 = bow_transformer.transform([review_25])\n",
    "print(bow_25)"
   ]
  },
  {
   "cell_type": "code",
   "execution_count": 32,
   "metadata": {
    "collapsed": true
   },
   "outputs": [],
   "source": [
    "X_ = bow_transformer.transform(X)"
   ]
  },
  {
   "cell_type": "code",
   "execution_count": 35,
   "metadata": {},
   "outputs": [
    {
     "name": "stdout",
     "output_type": "stream",
     "text": [
      "  (0, 132)\t1\n",
      "  (0, 4744)\t1\n",
      "  (0, 5910)\t1\n",
      "  (0, 6696)\t1\n",
      "  (0, 9132)\t1\n",
      "  (0, 14114)\t1\n",
      "  (0, 19919)\t1\n",
      "  (0, 20160)\t1\n",
      "  (0, 23353)\t1\n",
      "  (0, 24013)\t2\n",
      "  (0, 25158)\t1\n",
      "  (0, 29382)\t1\n",
      "  (0, 29614)\t1\n",
      "  (0, 40170)\t1\n",
      "  (0, 43989)\t1\n",
      "  (0, 44811)\t1\n",
      "  (0, 45184)\t1\n",
      "  (0, 48568)\t1\n",
      "  (0, 49456)\t2\n",
      "  (0, 49492)\t1\n",
      "  (0, 52019)\t1\n",
      "  (0, 54195)\t2\n",
      "  (0, 54447)\t1\n",
      "  (0, 55023)\t1\n",
      "  (0, 58656)\t1\n",
      "  :\t:\n",
      "  (102567, 167766)\t1\n",
      "  (102567, 168712)\t1\n",
      "  (102567, 170214)\t1\n",
      "  (102567, 171747)\t1\n",
      "  (102567, 180759)\t1\n",
      "  (102567, 183414)\t1\n",
      "  (102567, 187090)\t1\n",
      "  (102567, 190039)\t1\n",
      "  (102567, 193930)\t1\n",
      "  (102568, 37115)\t1\n",
      "  (102568, 54195)\t1\n",
      "  (102568, 78127)\t1\n",
      "  (102568, 79322)\t1\n",
      "  (102568, 81826)\t1\n",
      "  (102568, 84335)\t1\n",
      "  (102568, 98449)\t1\n",
      "  (102568, 104005)\t1\n",
      "  (102568, 111660)\t1\n",
      "  (102568, 115679)\t1\n",
      "  (102568, 130796)\t1\n",
      "  (102568, 132128)\t1\n",
      "  (102568, 132238)\t1\n",
      "  (102568, 146994)\t1\n",
      "  (102568, 152273)\t1\n",
      "  (102568, 158047)\t1\n"
     ]
    }
   ],
   "source": [
    "print(X_)\n",
    "\n",
    "filehandler = open('X_', 'wb')\n",
    "pickle.dump(X_, filehandler)\n",
    "filehandler.close()"
   ]
  },
  {
   "cell_type": "code",
   "execution_count": 36,
   "metadata": {},
   "outputs": [
    {
     "name": "stdout",
     "output_type": "stream",
     "text": [
      "  (0, 132)\t1\n",
      "  (0, 4744)\t1\n",
      "  (0, 5910)\t1\n",
      "  (0, 6696)\t1\n",
      "  (0, 9132)\t1\n",
      "  (0, 14114)\t1\n",
      "  (0, 19919)\t1\n",
      "  (0, 20160)\t1\n",
      "  (0, 23353)\t1\n",
      "  (0, 24013)\t2\n",
      "  (0, 25158)\t1\n",
      "  (0, 29382)\t1\n",
      "  (0, 29614)\t1\n",
      "  (0, 40170)\t1\n",
      "  (0, 43989)\t1\n",
      "  (0, 44811)\t1\n",
      "  (0, 45184)\t1\n",
      "  (0, 48568)\t1\n",
      "  (0, 49456)\t2\n",
      "  (0, 49492)\t1\n",
      "  (0, 52019)\t1\n",
      "  (0, 54195)\t2\n",
      "  (0, 54447)\t1\n",
      "  (0, 55023)\t1\n",
      "  (0, 58656)\t1\n",
      "  :\t:\n",
      "  (102567, 167766)\t1\n",
      "  (102567, 168712)\t1\n",
      "  (102567, 170214)\t1\n",
      "  (102567, 171747)\t1\n",
      "  (102567, 180759)\t1\n",
      "  (102567, 183414)\t1\n",
      "  (102567, 187090)\t1\n",
      "  (102567, 190039)\t1\n",
      "  (102567, 193930)\t1\n",
      "  (102568, 37115)\t1\n",
      "  (102568, 54195)\t1\n",
      "  (102568, 78127)\t1\n",
      "  (102568, 79322)\t1\n",
      "  (102568, 81826)\t1\n",
      "  (102568, 84335)\t1\n",
      "  (102568, 98449)\t1\n",
      "  (102568, 104005)\t1\n",
      "  (102568, 111660)\t1\n",
      "  (102568, 115679)\t1\n",
      "  (102568, 130796)\t1\n",
      "  (102568, 132128)\t1\n",
      "  (102568, 132238)\t1\n",
      "  (102568, 146994)\t1\n",
      "  (102568, 152273)\t1\n",
      "  (102568, 158047)\t1\n"
     ]
    }
   ],
   "source": [
    "X_ = 0\n",
    "\n",
    "filehandler = open('X_', 'rb')\n",
    "X_ = pickle.load(filehandler)\n",
    "filehandler.close()\n",
    "\n",
    "print(X_)"
   ]
  },
  {
   "cell_type": "markdown",
   "metadata": {
    "collapsed": true
   },
   "source": [
    "## Train the Model"
   ]
  },
  {
   "cell_type": "code",
   "execution_count": 37,
   "metadata": {
    "collapsed": true
   },
   "outputs": [],
   "source": [
    "from sklearn.model_selection import train_test_split\n",
    "X_train, X_test, y_train, y_test = train_test_split(X_, y, test_size=0.3, random_state=101)"
   ]
  },
  {
   "cell_type": "markdown",
   "metadata": {},
   "source": [
    "### Train by naive bayes"
   ]
  },
  {
   "cell_type": "code",
   "execution_count": 38,
   "metadata": {},
   "outputs": [
    {
     "data": {
      "text/plain": [
       "MultinomialNB(alpha=1.0, class_prior=None, fit_prior=True)"
      ]
     },
     "execution_count": 38,
     "metadata": {},
     "output_type": "execute_result"
    }
   ],
   "source": [
    "from sklearn.naive_bayes import MultinomialNB\n",
    "nb = MultinomialNB()\n",
    "nb.fit(X_train, y_train)"
   ]
  },
  {
   "cell_type": "code",
   "execution_count": 53,
   "metadata": {},
   "outputs": [
    {
     "name": "stdout",
     "output_type": "stream",
     "text": [
      "{'alpha': 1.0, 'class_prior': None, 'fit_prior': True}\n",
      "30771\n",
      "30771\n",
      "[[  9.24874219e-08   1.24937665e-05   7.40077841e-03   9.59162946e-01\n",
      "    3.34236889e-02]\n",
      " [  1.22020291e-23   1.38762562e-15   1.60536409e-07   1.62801380e-01\n",
      "    8.37198459e-01]\n",
      " [  1.58398813e-08   1.46508117e-05   6.98680307e-03   4.37674256e-01\n",
      "    5.55324274e-01]\n",
      " ..., \n",
      " [  2.75175264e-01   2.27358091e-01   2.41369462e-01   1.99769031e-01\n",
      "    5.63281526e-02]\n",
      " [  1.60504473e-89   4.60054631e-57   6.14049072e-28   2.47533030e-03\n",
      "    9.97524670e-01]\n",
      " [  2.05082303e-10   1.94983610e-10   5.09738566e-09   4.57834406e-05\n",
      "    9.99954211e-01]]\n"
     ]
    }
   ],
   "source": [
    "print(nb.get_params())\n",
    "print(X_test.shape[0])\n",
    "print((nb.predict_log_proba(X_test)).shape[0])\n",
    "print(nb.predict_proba(X_test))"
   ]
  },
  {
   "cell_type": "markdown",
   "metadata": {},
   "source": [
    "### Predict"
   ]
  },
  {
   "cell_type": "code",
   "execution_count": 39,
   "metadata": {
    "collapsed": true
   },
   "outputs": [],
   "source": [
    "preds = nb.predict(X_test)"
   ]
  },
  {
   "cell_type": "code",
   "execution_count": 57,
   "metadata": {},
   "outputs": [
    {
     "name": "stdout",
     "output_type": "stream",
     "text": [
      "[ 4.  5.  5. ...,  1.  5.  5.]\n"
     ]
    }
   ],
   "source": [
    "print(preds)"
   ]
  },
  {
   "cell_type": "code",
   "execution_count": 75,
   "metadata": {},
   "outputs": [
    {
     "name": "stdout",
     "output_type": "stream",
     "text": [
      "1807\n",
      "2542\n",
      "5030\n",
      "10702\n",
      "10690\n",
      "[2.4084117321527394, 3.2521636506687646, 3.7240556660039763, 4.2156606241823962, 4.6597754911131899]\n"
     ]
    }
   ],
   "source": [
    "pred_1 = [preds[index] for index, value in enumerate(y_test) if value == 1.0]\n",
    "pred_1_avg = np.mean(pred_1)\n",
    "print(len(pred_1))\n",
    "pred_2 = [preds[index] for index, value in enumerate(y_test) if value == 2.0]\n",
    "pred_2_avg = np.mean(pred_2)\n",
    "print(len(pred_2))\n",
    "pred_3 = [preds[index] for index, value in enumerate(y_test) if value == 3.0]\n",
    "pred_3_avg = np.mean(pred_3)\n",
    "print(len(pred_3))\n",
    "pred_4 = [preds[index] for index, value in enumerate(y_test) if value == 4.0]\n",
    "pred_4_avg = np.mean(pred_4)\n",
    "print(len(pred_4))\n",
    "pred_5 = [preds[index] for index, value in enumerate(y_test) if value == 5.0]\n",
    "pred_5_avg = np.mean(pred_5)\n",
    "print(len(pred_5))\n",
    "\n",
    "pred_avg = [pred_1_avg, pred_2_avg, pred_3_avg, pred_4_avg, pred_5_avg]\n",
    "print(pred_avg)\n",
    "\n",
    "\n"
   ]
  },
  {
   "cell_type": "code",
   "execution_count": 79,
   "metadata": {},
   "outputs": [
    {
     "data": {
      "image/png": "[encoded data removed]",
      "text/plain": [
       "<matplotlib.figure.Figure at 0x1a229eaa58>"
      ]
     },
     "metadata": {},
     "output_type": "display_data"
    }
   ],
   "source": [
    "fig, ax = plt.subplots()\n",
    "\n",
    "n_groups = 5\n",
    "\n",
    "means_men = pred_avg\n",
    "means_women = [1,2,3,4,5]\n",
    "\n",
    "index = np.arange(n_groups)\n",
    "bar_width = 0.35\n",
    "\n",
    "error_config = {'ecolor': '0.3'}\n",
    "\n",
    "rects1 = ax.bar(index, means_men, bar_width,color='g', label='Prediction')\n",
    "\n",
    "rects2 = ax.bar(index + bar_width, means_women, bar_width, color='c', label='Ground Truth')\n",
    "\n",
    "ax.set_xlabel('Groups')\n",
    "ax.set_ylabel('Ratings')\n",
    "ax.set_title('Rating comparision between prediction and groundtruth')\n",
    "ax.set_xticks(index + bar_width / 2)\n",
    "ax.set_xticklabels(('1', '2', '3', '4', '5'))\n",
    "ax.legend()\n",
    "\n",
    "fig.tight_layout()\n",
    "plt.savefig(\"prediction.png\")\n",
    "plt.show()"
   ]
  },
  {
   "cell_type": "code",
   "execution_count": 68,
   "metadata": {},
   "outputs": [
    {
     "name": "stdout",
     "output_type": "stream",
     "text": [
      "50\n"
     ]
    },
    {
     "data": {
      "image/png": "[encoded data removed]",
      "text/plain": [
       "<matplotlib.figure.Figure at 0x110e0fd30>"
      ]
     },
     "metadata": {},
     "output_type": "display_data"
    }
   ],
   "source": [
    "fig, ax = plt.subplots()\n",
    "\n",
    "n_groups = 50\n",
    "\n",
    "means_men = preds[:50]\n",
    "print(len(means_men))\n",
    "\n",
    "\n",
    "means_women = y_test[:50]\n",
    "\n",
    "\n",
    "index = np.arange(n_groups)\n",
    "bar_width = 0.35\n",
    "\n",
    "error_config = {'ecolor': '0.3'}\n",
    "\n",
    "rects1 = ax.bar(index, means_men, bar_width,color='y', label='Men')\n",
    "\n",
    "rects2 = ax.bar(index + bar_width, means_women, bar_width, color='c', label='Women')\n",
    "\n",
    "ax.set_xlabel('Group')\n",
    "ax.set_ylabel('Scores')\n",
    "ax.set_title('Scores by group and gender')\n",
    "ax.set_xticks(index + bar_width / 2)\n",
    "ax.set_xticklabels(('A', 'B', 'C', 'D', 'E'))\n",
    "ax.legend()\n",
    "\n",
    "fig.tight_layout()\n",
    "plt.show()"
   ]
  },
  {
   "cell_type": "markdown",
   "metadata": {},
   "source": [
    "### Evaluate"
   ]
  },
  {
   "cell_type": "code",
   "execution_count": 40,
   "metadata": {},
   "outputs": [
    {
     "name": "stdout",
     "output_type": "stream",
     "text": [
      "[[ 656  290  432  325  104]\n",
      " [ 192  217 1050  924  159]\n",
      " [  64   95 1316 3245  310]\n",
      " [  33   30  369 7434 2836]\n",
      " [  17   13   66 3398 7196]]\n",
      "\n",
      "\n",
      "             precision    recall  f1-score   support\n",
      "\n",
      "        1.0       0.68      0.36      0.47      1807\n",
      "        2.0       0.34      0.09      0.14      2542\n",
      "        3.0       0.41      0.26      0.32      5030\n",
      "        4.0       0.49      0.69      0.57     10702\n",
      "        5.0       0.68      0.67      0.68     10690\n",
      "\n",
      "avg / total       0.54      0.55      0.52     30771\n",
      "\n"
     ]
    }
   ],
   "source": [
    "from sklearn.metrics import confusion_matrix, classification_report\n",
    "print(confusion_matrix(y_test, preds))\n",
    "print('\\n')\n",
    "print(classification_report(y_test, preds)) "
   ]
  },
  {
   "cell_type": "code",
   "execution_count": 45,
   "metadata": {},
   "outputs": [
    {
     "name": "stdout",
     "output_type": "stream",
     "text": [
      "962\n",
      "645\n",
      "3233\n",
      "15326\n",
      "10605\n",
      "1807\n",
      "2542\n",
      "5030\n",
      "10702\n",
      "10690\n",
      "0.559000357479\n"
     ]
    }
   ],
   "source": [
    "print(len(preds[preds == 1.0]))\n",
    "print(len(preds[preds == 2.0]))\n",
    "print(len(preds[preds == 3.0]))\n",
    "print(len(preds[preds == 4.0]))\n",
    "print(len(preds[preds == 5.0]))\n",
    "\n",
    "import numpy as np\n",
    "y_test_ = np.array(y_test.tolist())\n",
    "print(len(y_test_[y_test_ == 1.0]))\n",
    "print(len(y_test_[y_test_ == 2.0]))\n",
    "print(len(y_test_[y_test_ == 3.0]))\n",
    "print(len(y_test_[y_test_ == 4.0]))\n",
    "print(len(y_test_[y_test_ == 5.0]))\n",
    "\n",
    "import numpy as np\n",
    "print(np.average(np.absolute(preds - y_test)))"
   ]
  },
  {
   "cell_type": "markdown",
   "metadata": {},
   "source": [
    "## SVM"
   ]
  },
  {
   "cell_type": "code",
   "execution_count": 54,
   "metadata": {},
   "outputs": [
    {
     "data": {
      "text/plain": [
       "SVC(C=1.0, cache_size=200, class_weight=None, coef0=0.0,\n",
       "  decision_function_shape='ovr', degree=3, gamma='auto', kernel='rbf',\n",
       "  max_iter=-1, probability=False, random_state=None, shrinking=True,\n",
       "  tol=0.001, verbose=False)"
      ]
     },
     "execution_count": 54,
     "metadata": {},
     "output_type": "execute_result"
    }
   ],
   "source": [
    "from sklearn.svm import SVC\n",
    "clf = SVC()\n",
    "clf.fit(X_train, y_train)"
   ]
  },
  {
   "cell_type": "code",
   "execution_count": 55,
   "metadata": {},
   "outputs": [
    {
     "name": "stdout",
     "output_type": "stream",
     "text": [
      "[ 4.  4.  4. ...,  4.  4.  4.]\n"
     ]
    }
   ],
   "source": [
    " SVC(C=1.0, cache_size=200, class_weight=None, coef0=0.0,\n",
    "    decision_function_shape='ovr', degree=3, gamma='auto', kernel='rbf',\n",
    "    max_iter=-1, probability=False, random_state=None, shrinking=True,\n",
    "    tol=0.001, verbose=False)\n",
    "\n",
    "print(clf.predict(X_test))"
   ]
  },
  {
   "cell_type": "code",
   "execution_count": null,
   "metadata": {
    "collapsed": true
   },
   "outputs": [],
   "source": []
  }
 ],
 "metadata": {
  "kernelspec": {
   "display_name": "Python 3",
   "language": "python",
   "name": "python3"
  },
  "language_info": {
   "codemirror_mode": {
    "name": "ipython",
    "version": 3
   },
   "file_extension": ".py",
   "mimetype": "text/x-python",
   "name": "python",
   "nbconvert_exporter": "python",
   "pygments_lexer": "ipython3",
   "version": "3.6.3"
  }
 },
 "nbformat": 4,
 "nbformat_minor": 2
}
