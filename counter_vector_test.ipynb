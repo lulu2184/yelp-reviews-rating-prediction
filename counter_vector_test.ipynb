{
 "cells": [
  {
   "cell_type": "markdown",
   "metadata": {},
   "source": [
    "# Rating Predictor for Yelp Reviews"
   ]
  },
  {
   "cell_type": "code",
   "execution_count": 1,
   "metadata": {
    "collapsed": true
   },
   "outputs": [],
   "source": [
    "# Import libraries\n",
    "import requests\n",
    "import json\n",
    "import time\n",
    "import pandas as pd\n",
    "from bs4 import BeautifulSoup"
   ]
  },
  {
   "cell_type": "markdown",
   "metadata": {},
   "source": [
    "Get reviews"
   ]
  },
  {
   "cell_type": "code",
   "execution_count": 32,
   "metadata": {
    "collapsed": true
   },
   "outputs": [],
   "source": [
    "def parse_page(html):\n",
    "    \"\"\"\n",
    "    Parse the reviews on a single page of a restaurant.\n",
    "    \n",
    "    Args:\n",
    "        html (string): String of HTML corresponding to a Yelp restaurant\n",
    "\n",
    "    Returns:\n",
    "        tuple(list, string): a tuple of two elements\n",
    "            first element: list of dictionaries corresponding to the extracted review information\n",
    "            second element: URL for the next page of reviews (or None if it is the last page)\n",
    "    \"\"\"\n",
    "    review_list = []\n",
    "    soup = BeautifulSoup(html, 'html.parser')\n",
    "    for review_block in soup.find_all('div', attrs={'class': 'review review--with-sidebar'}):\n",
    "        review_id = user_id = rating = date = text = None\n",
    "        if 'data-review-id' in review_block.attrs:\n",
    "            review_id = review_block['data-review-id']\n",
    "        if 'data-signup-object' in review_block.attrs and review_block['data-signup-object'].startswith('user_id:'):\n",
    "            user_id = review_block['data-signup-object'][8:]\n",
    "        rating_div = review_block.find('div', attrs={'class': 'i-stars'})\n",
    "        if 'title' in rating_div.attrs:\n",
    "            rating = float(rating_div['title'].split()[0])\n",
    "        date_span = review_block.find('span', attrs={'class': 'rating-qualifier'})\n",
    "        if date_span:\n",
    "            date = date_span.getText().strip()\n",
    "        review_content = review_block.find('div', attrs={'class': 'review-content'})\n",
    "        if review_content:\n",
    "            text = review_content.find('p').getText()\n",
    "        if review_id and user_id and rating and date and text:\n",
    "            review_list.append({\n",
    "                'review_id': review_id,\n",
    "                'user_id': user_id,\n",
    "                'rating': rating,\n",
    "                'date': date,\n",
    "                'text': text\n",
    "            })\n",
    "    next_link = None\n",
    "    next_ele = soup.find('a', attrs={'class': 'u-decoration-none next pagination-links_anchor'})\n",
    "    if next_ele and 'href' in next_ele.attrs:\n",
    "        next_link = next_ele['href']\n",
    "    return review_list, next_link"
   ]
  },
  {
   "cell_type": "code",
   "execution_count": 53,
   "metadata": {
    "collapsed": true
   },
   "outputs": [],
   "source": [
    "def scrape_all_reviews(restaurants):\n",
    "    for i, restaurant in enumerate(restaurants):\n",
    "        print(\"restaurant: \", i)\n",
    "        reviews = []\n",
    "        url = restaurant['url']\n",
    "        while url != None:\n",
    "            response = requests.get(url)\n",
    "            reviews_in_page, url = parse_page(response.content)\n",
    "            reviews.extend(reviews_in_page)\n",
    "        print(len(reviews))\n",
    "        df = pd.DataFrame(reviews)\n",
    "        df.to_csv('reviews.csv', mode='a', header=True)"
   ]
  },
  {
   "cell_type": "code",
   "execution_count": null,
   "metadata": {},
   "outputs": [
    {
     "name": "stdout",
     "output_type": "stream",
     "text": [
      "restaurant:  0\n",
      "990\n",
      "restaurant:  1\n",
      "618\n",
      "restaurant:  2\n",
      "440\n",
      "restaurant:  3\n",
      "801\n",
      "restaurant:  4\n",
      "552\n",
      "restaurant:  5\n",
      "1213\n",
      "restaurant:  6\n",
      "661\n",
      "restaurant:  7\n",
      "482\n",
      "restaurant:  8\n",
      "697\n",
      "restaurant:  9\n",
      "1183\n",
      "restaurant:  10\n",
      "1382\n",
      "restaurant:  11\n",
      "1044\n",
      "restaurant:  12\n",
      "1423\n",
      "restaurant:  13\n",
      "647\n",
      "restaurant:  14\n",
      "671\n",
      "restaurant:  15\n",
      "1150\n",
      "restaurant:  16\n",
      "574\n",
      "restaurant:  17\n",
      "150\n",
      "restaurant:  18\n",
      "1227\n",
      "restaurant:  19\n",
      "442\n",
      "restaurant:  20\n",
      "511\n",
      "restaurant:  21\n",
      "629\n",
      "restaurant:  22\n",
      "703\n",
      "restaurant:  23\n",
      "992\n",
      "restaurant:  24\n",
      "424\n",
      "restaurant:  25\n",
      "193\n",
      "restaurant:  26\n",
      "851\n",
      "restaurant:  27\n",
      "349\n",
      "restaurant:  28\n",
      "1177\n",
      "restaurant:  29\n",
      "449\n",
      "restaurant:  30\n",
      "1246\n",
      "restaurant:  31\n",
      "863\n",
      "restaurant:  32\n",
      "1189\n",
      "restaurant:  33\n",
      "420\n",
      "restaurant:  34\n",
      "623\n",
      "restaurant:  35\n",
      "1490\n",
      "restaurant:  36\n",
      "612\n",
      "restaurant:  37\n",
      "402\n",
      "restaurant:  38\n",
      "479\n",
      "restaurant:  39\n",
      "913\n",
      "restaurant:  40\n",
      "552\n",
      "restaurant:  41\n",
      "576\n",
      "restaurant:  42\n",
      "931\n",
      "restaurant:  43\n",
      "600\n",
      "restaurant:  44\n",
      "342\n",
      "restaurant:  45\n",
      "721\n",
      "restaurant:  46\n",
      "434\n",
      "restaurant:  47\n",
      "911\n",
      "restaurant:  48\n",
      "286\n",
      "restaurant:  49\n",
      "1859\n",
      "restaurant:  50\n",
      "626\n",
      "restaurant:  51\n",
      "564\n",
      "restaurant:  52\n",
      "1178\n",
      "restaurant:  53\n",
      "499\n",
      "restaurant:  54\n",
      "367\n",
      "restaurant:  55\n",
      "340\n",
      "restaurant:  56\n",
      "315\n",
      "restaurant:  57\n",
      "221\n",
      "restaurant:  58\n",
      "1175\n",
      "restaurant:  59\n",
      "842\n",
      "restaurant:  60\n",
      "571\n",
      "restaurant:  61\n",
      "438\n",
      "restaurant:  62\n",
      "291\n",
      "restaurant:  63\n",
      "538\n",
      "restaurant:  64\n",
      "337\n",
      "restaurant:  65\n",
      "116\n",
      "restaurant:  66\n",
      "1476\n",
      "restaurant:  67\n",
      "1089\n",
      "restaurant:  68\n",
      "524\n",
      "restaurant:  69\n",
      "164\n",
      "restaurant:  70\n"
     ]
    }
   ],
   "source": [
    "scrape_all_reviews(blist[42:])"
   ]
  },
  {
   "cell_type": "code",
   "execution_count": 48,
   "metadata": {},
   "outputs": [
    {
     "name": "stdout",
     "output_type": "stream",
     "text": [
      "3\n"
     ]
    }
   ],
   "source": []
  },
  {
   "cell_type": "markdown",
   "metadata": {
    "collapsed": true
   },
   "source": [
    "## Feature Extraction"
   ]
  },
  {
   "cell_type": "code",
   "execution_count": 31,
   "metadata": {},
   "outputs": [
    {
     "name": "stderr",
     "output_type": "stream",
     "text": [
      "/anaconda3/lib/python3.6/site-packages/ipykernel_launcher.py:2: DeprecationWarning: 'U' mode is deprecated\n",
      "  \n"
     ]
    }
   ],
   "source": [
    "# df = pd.read_csv(open('reviews.csv','rU'), header = None)\n",
    "df = pd.read_csv(open('reviews.csv','rU'))\n"
   ]
  },
  {
   "cell_type": "code",
   "execution_count": 34,
   "metadata": {},
   "outputs": [
    {
     "name": "stdout",
     "output_type": "stream",
     "text": [
      "133\n",
      "187864\n",
      "187075\n"
     ]
    }
   ],
   "source": [
    "# df['length'] = df.text.str.len()\n",
    "# print(df)\n",
    "def pre_process(df):\n",
    "    new_df = df\n",
    "    # Extract reviews and ratings\n",
    "    new_df = new_df[['text', 'rating']]\n",
    "    \n",
    "    # remove invalid rows with \",text,rating\"\n",
    "    new_df = new_df[new_df.rating.astype(str).str.contains(\"rating\") == False]\n",
    "\n",
    "    # convert rating values to float\n",
    "    new_df['rating'] = new_df['rating'].astype(float).fillna(0)\n",
    "    # add length column to record word count of reviews\n",
    "    new_df['length'] = new_df['text'].astype(str).apply(word_count)\n",
    "    print(new_df.iloc[0].length)\n",
    "    \n",
    "    # remove punctations\n",
    "    \n",
    "    return new_df\n",
    "    \n",
    "def word_count(str):\n",
    "    return len(str.split())\n",
    "\n",
    "df = pre_process(df)\n",
    "print(len(df))\n",
    "\n",
    "df = df[df.rating >= 1.0]\n",
    "print(len(df))\n"
   ]
  },
  {
   "cell_type": "code",
   "execution_count": 78,
   "metadata": {},
   "outputs": [
    {
     "data": {
      "image/png": "[encoded data removed]",
      "text/plain": [
       "<matplotlib.figure.Figure at 0x1a275d8898>"
      ]
     },
     "metadata": {},
     "output_type": "display_data"
    }
   ],
   "source": [
    "import seaborn as sns\n",
    "import nltk\n",
    "from nltk.corpus import stopwords\n",
    "import matplotlib.pyplot as plt\n",
    "import numpy as np\n",
    "\n",
    "g = sns.FacetGrid(data=df, col='rating')\n",
    "g.map(plt.hist, 'length', bins=5, range = (0,500))\n",
    "plt.show()"
   ]
  },
  {
   "cell_type": "code",
   "execution_count": 79,
   "metadata": {},
   "outputs": [
    {
     "name": "stdout",
     "output_type": "stream",
     "text": [
      "mean = 131.31633864947403\n",
      "std = 119.2945705030534\n"
     ]
    },
    {
     "data": {
      "image/png": "[encoded data removed]",
      "text/plain": [
       "<matplotlib.figure.Figure at 0x1a2193fe48>"
      ]
     },
     "metadata": {},
     "output_type": "display_data"
    }
   ],
   "source": [
    "rating_1 = df[(df.rating == 1.0)]\n",
    "plot = sns.distplot(rating_1['length'],label='rating=1.0',axlabel='Length of the Reviews',color=\"g\")\n",
    "plt.title('Rating=1.0')\n",
    "fig = plot.get_figure()\n",
    "fig.savefig(\"rating_1.png\")\n",
    "print ('mean =',np.mean(rating_1['length']))\n",
    "print ('std =', np.std(rating_1['length']))\n",
    "plt.show()"
   ]
  },
  {
   "cell_type": "code",
   "execution_count": 80,
   "metadata": {},
   "outputs": [
    {
     "name": "stdout",
     "output_type": "stream",
     "text": [
      "mean = 135.40501361017914\n",
      "std = 113.91070388694456\n"
     ]
    },
    {
     "data": {
      "image/png": "[encoded data removed]",
      "text/plain": [
       "<matplotlib.figure.Figure at 0x10e39c978>"
      ]
     },
     "metadata": {},
     "output_type": "display_data"
    }
   ],
   "source": [
    "rating_2 = df[(df.rating == 2.0)]\n",
    "plot = sns.distplot(rating_2['length'],label='rating=2.0',axlabel='Length of the Reviews',color=\"g\")\n",
    "plt.title('Rating=2.0')\n",
    "fig = plot.get_figure()\n",
    "fig.savefig(\"rating_2.png\")\n",
    "print ('mean =',np.mean(rating_2['length']))\n",
    "print ('std =', np.std(rating_2['length']))\n",
    "plt.show()"
   ]
  },
  {
   "cell_type": "code",
   "execution_count": 81,
   "metadata": {},
   "outputs": [
    {
     "name": "stdout",
     "output_type": "stream",
     "text": [
      "mean = 127.28331969225732\n",
      "std = 103.14006644676003\n"
     ]
    },
    {
     "data": {
      "image/png": "[encoded data removed]",
      "text/plain": [
       "<matplotlib.figure.Figure at 0x1a1ffaa080>"
      ]
     },
     "metadata": {},
     "output_type": "display_data"
    }
   ],
   "source": [
    "rating_3 = df[(df.rating == 3.0)]\n",
    "plot = sns.distplot(rating_3['length'],label='rating=3.0',axlabel='Length of the Reviews',color=\"g\")\n",
    "plt.title('Rating=3.0')\n",
    "fig = plot.get_figure()\n",
    "fig.savefig(\"rating_3.png\")\n",
    "print ('mean =',np.mean(rating_3['length']))\n",
    "print ('std =', np.std(rating_3['length']))\n",
    "plt.show()"
   ]
  },
  {
   "cell_type": "code",
   "execution_count": 82,
   "metadata": {},
   "outputs": [
    {
     "name": "stdout",
     "output_type": "stream",
     "text": [
      "mean = 115.35467781908302\n",
      "std = 99.38202100760289\n"
     ]
    },
    {
     "data": {
      "image/png": "[encoded data removed]",
      "text/plain": [
       "<matplotlib.figure.Figure at 0x10e39c358>"
      ]
     },
     "metadata": {},
     "output_type": "display_data"
    }
   ],
   "source": [
    "rating_4 = df[(df.rating == 4.0)]\n",
    "plot = sns.distplot(rating_4['length'],label='rating=4.0',axlabel='Length of the Reviews',color=\"g\")\n",
    "plt.title('Rating=4.0')\n",
    "fig = plot.get_figure()\n",
    "fig.savefig(\"rating_4.png\")\n",
    "print ('mean =',np.mean(rating_4['length']))\n",
    "print ('std =', np.std(rating_4['length']))\n",
    "plt.show()"
   ]
  },
  {
   "cell_type": "code",
   "execution_count": 83,
   "metadata": {},
   "outputs": [
    {
     "name": "stdout",
     "output_type": "stream",
     "text": [
      "mean = 95.52085112992157\n",
      "std = 92.95112461530366\n"
     ]
    },
    {
     "data": {
      "image/png": "[encoded data removed]",
      "text/plain": [
       "<matplotlib.figure.Figure at 0x1a1e996da0>"
      ]
     },
     "metadata": {},
     "output_type": "display_data"
    }
   ],
   "source": [
    "rating_5 = df[(df.rating == 5.0)]\n",
    "plot = sns.distplot(rating_5['length'],label='rating=5.0',axlabel='Length of the Reviews',color=\"g\")\n",
    "plt.title('Rating=5.0')\n",
    "fig = plot.get_figure()\n",
    "fig.savefig(\"rating_5.png\")\n",
    "print ('mean =',np.mean(rating_5['length']))\n",
    "print ('std =', np.std(rating_5['length']))\n",
    "plt.show()"
   ]
  },
  {
   "cell_type": "code",
   "execution_count": 86,
   "metadata": {},
   "outputs": [
    {
     "data": {
      "image/png": "[encoded data removed]",
      "text/plain": [
       "<matplotlib.figure.Figure at 0x10c23d1d0>"
      ]
     },
     "metadata": {},
     "output_type": "display_data"
    },
    {
     "data": {
      "image/png": "[encoded data removed]",
      "text/plain": [
       "<matplotlib.figure.Figure at 0x108e9f2b0>"
      ]
     },
     "metadata": {},
     "output_type": "display_data"
    }
   ],
   "source": [
    "mean_length = [np.mean(rating_1['length']), np.mean(rating_2['length']), \\\n",
    "               np.mean(rating_3['length']), np.mean(rating_4['length']), np.mean(rating_5['length'])]\n",
    "rating_classes = [1,2,3,4,5]\n",
    "\n",
    "fig, ax = plt.subplots()\n",
    "\n",
    "plt.barh(rating_classes, mean_length)\n",
    "ax.set_xlabel('Average Length of Reviews')\n",
    "ax.set_ylabel('Rating')\n",
    "\n",
    "plt.savefig(\"average_length.png\")\n",
    "# for i, v in enumerate(d):\n",
    "#     ax.text(v + 3, i + .25, str(v), color='blue', fontweight='bold')\n",
    "\n",
    "plt.show()"
   ]
  },
  {
   "cell_type": "code",
   "execution_count": 141,
   "metadata": {},
   "outputs": [
    {
     "data": {
      "image/png": "[encoded data removed]",
      "text/plain": [
       "<matplotlib.figure.Figure at 0x1a19ab2780>"
      ]
     },
     "metadata": {},
     "output_type": "display_data"
    }
   ],
   "source": [
    "# print(df)\n",
    "rating_classes = [1,2,3,4,5]\n",
    "rating_size = [len(df[df.rating == 1.0]), len(df[df.rating == 2.0]), len(df[df.rating == 3.0]), \\\n",
    "              len(df[df.rating == 4.0]), len(df[df.rating == 5.0])]\n",
    "# d = {'rating': rating_classes, 'size': rating_size}\n",
    "# new_df = pd.DataFrame(data=d, index=None)\n",
    "# print(new_df)\n",
    "\n",
    "fig, ax = plt.subplots()\n",
    "\n",
    "plt.bar(rating_classes, rating_size, color = 'c')\n",
    "ax.set_xlabel('Rating')\n",
    "plt.title('Number of Reviews')\n",
    "\n",
    "for i, (rating_a, size_a) in enumerate(zip(rating_classes, rating_size)):\n",
    "#     plt.text(s=rating_a, x=1, y=i, color=\"w\", verticalalignment=\"center\", size=28)\n",
    "    plt.text(s=str(size_a), x=i+0.65, y=size_a-5000, color=\"w\",\n",
    "             verticalalignment=\"center\", horizontalalignment=\"left\", size=14)\n",
    "\n",
    "ax.spines['right'].set_visible(False)\n",
    "ax.spines['top'].set_visible(False)\n",
    "ax.spines['left'].set_visible(False)\n",
    "\n",
    "# ax.xaxis.set_ticks([])\n",
    "ax.yaxis.set_ticks([])\n",
    "\n",
    "plt.savefig(\"reviews_size.png\")\n",
    "plt.show()\n",
    "\n"
   ]
  },
  {
   "cell_type": "code",
   "execution_count": 7,
   "metadata": {
    "collapsed": true
   },
   "outputs": [],
   "source": [
    "five = df[(df.rating >= 1.0)]\n",
    "# print(binary)\n",
    "X = five.text\n",
    "y = five.rating\n",
    "\n",
    "import string\n",
    "\n",
    "# remove stopwords, punctuations, to lower case\n",
    "def text_process(text):\n",
    "    nopunc = [char for char in text if char not in string.punctuation]\n",
    "    nopunc = ''.join(nopunc)\n",
    "    \n",
    "    return [word for word in nopunc.split() if word.lower() not in stopwords.words('english')]\n",
    "\n",
    "from sklearn.feature_extraction.text import CountVectorizer\n",
    "bow_transformer = CountVectorizer(analyzer=text_process).fit(X)\n",
    "\n"
   ]
  },
  {
   "cell_type": "code",
   "execution_count": 61,
   "metadata": {},
   "outputs": [
    {
     "ename": "AttributeError",
     "evalue": "'Series' object has no attribute 'text'",
     "output_type": "error",
     "traceback": [
      "\u001b[0;31m---------------------------------------\u001b[0m",
      "\u001b[0;31mAttributeError\u001b[0mTraceback (most recent call last)",
      "\u001b[0;32m<ipython-input-61-fe2f41e70561>\u001b[0m in \u001b[0;36m<module>\u001b[0;34m()\u001b[0m\n\u001b[1;32m     14\u001b[0m \u001b[0mbow_transformer\u001b[0m \u001b[0;34m=\u001b[0m \u001b[0mCountVectorizer\u001b[0m\u001b[0;34m(\u001b[0m\u001b[0manalyzer\u001b[0m\u001b[0;34m=\u001b[0m\u001b[0mtext_process\u001b[0m\u001b[0;34m)\u001b[0m\u001b[0;34m.\u001b[0m\u001b[0mfit\u001b[0m\u001b[0;34m(\u001b[0m\u001b[0mX\u001b[0m\u001b[0;34m)\u001b[0m\u001b[0;34m\u001b[0m\u001b[0m\n\u001b[1;32m     15\u001b[0m \u001b[0;34m\u001b[0m\u001b[0m\n\u001b[0;32m---> 16\u001b[0;31m \u001b[0mreview_25\u001b[0m \u001b[0;34m=\u001b[0m \u001b[0mX\u001b[0m\u001b[0;34m.\u001b[0m\u001b[0mtext\u001b[0m\u001b[0;34m[\u001b[0m\u001b[0;36m24\u001b[0m\u001b[0;34m]\u001b[0m\u001b[0;34m\u001b[0m\u001b[0m\n\u001b[0m\u001b[1;32m     17\u001b[0m \u001b[0mprint\u001b[0m\u001b[0;34m(\u001b[0m\u001b[0mreview_25\u001b[0m\u001b[0;34m)\u001b[0m\u001b[0;34m\u001b[0m\u001b[0m\n\u001b[1;32m     18\u001b[0m \u001b[0mbow_25\u001b[0m \u001b[0;34m=\u001b[0m \u001b[0mbow_transformer\u001b[0m\u001b[0;34m.\u001b[0m\u001b[0mtransform\u001b[0m\u001b[0;34m(\u001b[0m\u001b[0;34m[\u001b[0m\u001b[0mreview_25\u001b[0m\u001b[0;34m]\u001b[0m\u001b[0;34m)\u001b[0m\u001b[0;34m\u001b[0m\u001b[0m\n",
      "\u001b[0;32m/anaconda3/lib/python3.6/site-packages/pandas/core/generic.py\u001b[0m in \u001b[0;36m__getattr__\u001b[0;34m(self, name)\u001b[0m\n\u001b[1;32m   3079\u001b[0m             \u001b[0;32mif\u001b[0m \u001b[0mname\u001b[0m \u001b[0;32min\u001b[0m \u001b[0mself\u001b[0m\u001b[0;34m.\u001b[0m\u001b[0m_info_axis\u001b[0m\u001b[0;34m:\u001b[0m\u001b[0;34m\u001b[0m\u001b[0m\n\u001b[1;32m   3080\u001b[0m                 \u001b[0;32mreturn\u001b[0m \u001b[0mself\u001b[0m\u001b[0;34m[\u001b[0m\u001b[0mname\u001b[0m\u001b[0;34m]\u001b[0m\u001b[0;34m\u001b[0m\u001b[0m\n\u001b[0;32m-> 3081\u001b[0;31m             \u001b[0;32mreturn\u001b[0m \u001b[0mobject\u001b[0m\u001b[0;34m.\u001b[0m\u001b[0m__getattribute__\u001b[0m\u001b[0;34m(\u001b[0m\u001b[0mself\u001b[0m\u001b[0;34m,\u001b[0m \u001b[0mname\u001b[0m\u001b[0;34m)\u001b[0m\u001b[0;34m\u001b[0m\u001b[0m\n\u001b[0m\u001b[1;32m   3082\u001b[0m \u001b[0;34m\u001b[0m\u001b[0m\n\u001b[1;32m   3083\u001b[0m     \u001b[0;32mdef\u001b[0m \u001b[0m__setattr__\u001b[0m\u001b[0;34m(\u001b[0m\u001b[0mself\u001b[0m\u001b[0;34m,\u001b[0m \u001b[0mname\u001b[0m\u001b[0;34m,\u001b[0m \u001b[0mvalue\u001b[0m\u001b[0;34m)\u001b[0m\u001b[0;34m:\u001b[0m\u001b[0;34m\u001b[0m\u001b[0m\n",
      "\u001b[0;31mAttributeError\u001b[0m: 'Series' object has no attribute 'text'"
     ]
    }
   ],
   "source": [
    "# binary = df[(df.rating == 1.0) | (df.rating == 5.0)]\n",
    "# # print(binary)\n",
    "# X = binary.text\n",
    "# y = binary.rating\n",
    "\n",
    "# import string\n",
    "# def text_process(text):\n",
    "#     nopunc = [char for char in text if char not in string.punctuation]\n",
    "#     nopunc = ''.join(nopunc)\n",
    "    \n",
    "#     return [word for word in nopunc.split() if word.lower() not in stopwords.words('english')]\n",
    "\n",
    "# from sklearn.feature_extraction.text import CountVectorizer\n",
    "# bow_transformer = CountVectorizer(analyzer=text_process).fit(X)\n"
   ]
  },
  {
   "cell_type": "code",
   "execution_count": 8,
   "metadata": {},
   "outputs": [
    {
     "name": "stdout",
     "output_type": "stream",
     "text": [
      "Delicious!  A bit pricey but worth the occasional indulgence.  This takes seafood to the highest level. Friends who don't even like seafood like it from here.  The little cotton candy surprise at the end of the meal was a huge hit.\n",
      "  (0, 17174)\t1\n",
      "  (0, 21519)\t1\n",
      "  (0, 63634)\t1\n",
      "  (0, 69198)\t1\n",
      "  (0, 77604)\t1\n",
      "  (0, 86677)\t1\n",
      "  (0, 90486)\t1\n",
      "  (0, 91953)\t1\n",
      "  (0, 110367)\t1\n",
      "  (0, 110709)\t1\n",
      "  (0, 112122)\t1\n",
      "  (0, 114038)\t1\n",
      "  (0, 120825)\t1\n",
      "  (0, 121192)\t2\n",
      "  (0, 121905)\t1\n",
      "  (0, 125722)\t1\n",
      "  (0, 135415)\t1\n",
      "  (0, 149282)\t1\n",
      "  (0, 161152)\t2\n",
      "  (0, 174263)\t1\n",
      "  (0, 175779)\t1\n",
      "  (0, 194055)\t1\n"
     ]
    }
   ],
   "source": [
    "review_25 = X.iloc[24]\n",
    "print(review_25)\n",
    "bow_25 = bow_transformer.transform([review_25])\n",
    "print(bow_25)"
   ]
  },
  {
   "cell_type": "code",
   "execution_count": 9,
   "metadata": {
    "collapsed": true
   },
   "outputs": [],
   "source": [
    "X_ = bow_transformer.transform(X)"
   ]
  },
  {
   "cell_type": "code",
   "execution_count": 15,
   "metadata": {},
   "outputs": [
    {
     "name": "stdout",
     "output_type": "stream",
     "text": [
      "  (0, 132)\t1\n",
      "  (0, 4744)\t1\n",
      "  (0, 5910)\t1\n",
      "  (0, 6696)\t1\n",
      "  (0, 9132)\t1\n",
      "  (0, 14114)\t1\n",
      "  (0, 19919)\t1\n",
      "  (0, 20160)\t1\n",
      "  (0, 23353)\t1\n",
      "  (0, 24013)\t2\n",
      "  (0, 25158)\t1\n",
      "  (0, 29382)\t1\n",
      "  (0, 29614)\t1\n",
      "  (0, 40170)\t1\n",
      "  (0, 43989)\t1\n",
      "  (0, 44811)\t1\n",
      "  (0, 45184)\t1\n",
      "  (0, 48568)\t1\n",
      "  (0, 49456)\t2\n",
      "  (0, 49492)\t1\n",
      "  (0, 52019)\t1\n",
      "  (0, 54195)\t2\n",
      "  (0, 54447)\t1\n",
      "  (0, 55023)\t1\n",
      "  (0, 58656)\t1\n",
      "  :\t:\n",
      "  (102567, 167766)\t1\n",
      "  (102567, 168712)\t1\n",
      "  (102567, 170214)\t1\n",
      "  (102567, 171747)\t1\n",
      "  (102567, 180759)\t1\n",
      "  (102567, 183414)\t1\n",
      "  (102567, 187090)\t1\n",
      "  (102567, 190039)\t1\n",
      "  (102567, 193930)\t1\n",
      "  (102568, 37115)\t1\n",
      "  (102568, 54195)\t1\n",
      "  (102568, 78127)\t1\n",
      "  (102568, 79322)\t1\n",
      "  (102568, 81826)\t1\n",
      "  (102568, 84335)\t1\n",
      "  (102568, 98449)\t1\n",
      "  (102568, 104005)\t1\n",
      "  (102568, 111660)\t1\n",
      "  (102568, 115679)\t1\n",
      "  (102568, 130796)\t1\n",
      "  (102568, 132128)\t1\n",
      "  (102568, 132238)\t1\n",
      "  (102568, 146994)\t1\n",
      "  (102568, 152273)\t1\n",
      "  (102568, 158047)\t1\n"
     ]
    }
   ],
   "source": [
    "print(X_)"
   ]
  },
  {
   "cell_type": "markdown",
   "metadata": {
    "collapsed": true
   },
   "source": [
    "## Train the Model"
   ]
  },
  {
   "cell_type": "code",
   "execution_count": 143,
   "metadata": {},
   "outputs": [
    {
     "ename": "NameError",
     "evalue": "name 'X_' is not defined",
     "output_type": "error",
     "traceback": [
      "\u001b[0;31m---------------------------------------\u001b[0m",
      "\u001b[0;31mNameError\u001b[0mTraceback (most recent call last)",
      "\u001b[0;32m<ipython-input-143-fc504962a0d0>\u001b[0m in \u001b[0;36m<module>\u001b[0;34m()\u001b[0m\n\u001b[1;32m      1\u001b[0m \u001b[0;32mfrom\u001b[0m \u001b[0msklearn\u001b[0m\u001b[0;34m.\u001b[0m\u001b[0mmodel_selection\u001b[0m \u001b[0;32mimport\u001b[0m \u001b[0mtrain_test_split\u001b[0m\u001b[0;34m\u001b[0m\u001b[0m\n\u001b[0;32m----> 2\u001b[0;31m \u001b[0mX_train\u001b[0m\u001b[0;34m,\u001b[0m \u001b[0mX_test\u001b[0m\u001b[0;34m,\u001b[0m \u001b[0my_train\u001b[0m\u001b[0;34m,\u001b[0m \u001b[0my_test\u001b[0m \u001b[0;34m=\u001b[0m \u001b[0mtrain_test_split\u001b[0m\u001b[0;34m(\u001b[0m\u001b[0mX_\u001b[0m\u001b[0;34m,\u001b[0m \u001b[0my\u001b[0m\u001b[0;34m,\u001b[0m \u001b[0mtest_size\u001b[0m\u001b[0;34m=\u001b[0m\u001b[0;36m0.3\u001b[0m\u001b[0;34m,\u001b[0m \u001b[0mrandom_state\u001b[0m\u001b[0;34m=\u001b[0m\u001b[0;36m101\u001b[0m\u001b[0;34m)\u001b[0m\u001b[0;34m\u001b[0m\u001b[0m\n\u001b[0m",
      "\u001b[0;31mNameError\u001b[0m: name 'X_' is not defined"
     ]
    }
   ],
   "source": [
    "from sklearn.model_selection import train_test_split\n",
    "X_train, X_test, y_train, y_test = train_test_split(X_, y, test_size=0.3, random_state=101)"
   ]
  },
  {
   "cell_type": "markdown",
   "metadata": {},
   "source": [
    "### Train by naive bayes"
   ]
  },
  {
   "cell_type": "code",
   "execution_count": 11,
   "metadata": {},
   "outputs": [
    {
     "data": {
      "text/plain": [
       "MultinomialNB(alpha=1.0, class_prior=None, fit_prior=True)"
      ]
     },
     "execution_count": 11,
     "metadata": {},
     "output_type": "execute_result"
    }
   ],
   "source": [
    "from sklearn.naive_bayes import MultinomialNB\n",
    "nb = MultinomialNB()\n",
    "nb.fit(X_train, y_train)"
   ]
  },
  {
   "cell_type": "markdown",
   "metadata": {},
   "source": [
    "### Predict"
   ]
  },
  {
   "cell_type": "code",
   "execution_count": 142,
   "metadata": {},
   "outputs": [
    {
     "ename": "NameError",
     "evalue": "name 'nb' is not defined",
     "output_type": "error",
     "traceback": [
      "\u001b[0;31m---------------------------------------\u001b[0m",
      "\u001b[0;31mNameError\u001b[0mTraceback (most recent call last)",
      "\u001b[0;32m<ipython-input-142-b7038f0f52d2>\u001b[0m in \u001b[0;36m<module>\u001b[0;34m()\u001b[0m\n\u001b[0;32m----> 1\u001b[0;31m \u001b[0mpreds\u001b[0m \u001b[0;34m=\u001b[0m \u001b[0mnb\u001b[0m\u001b[0;34m.\u001b[0m\u001b[0mpredict\u001b[0m\u001b[0;34m(\u001b[0m\u001b[0mX_test\u001b[0m\u001b[0;34m)\u001b[0m\u001b[0;34m\u001b[0m\u001b[0m\n\u001b[0m\u001b[1;32m      2\u001b[0m \u001b[0;34m\u001b[0m\u001b[0m\n\u001b[1;32m      3\u001b[0m \u001b[0mprint\u001b[0m\u001b[0;34m(\u001b[0m\u001b[0mlen\u001b[0m\u001b[0;34m(\u001b[0m\u001b[0mpreds\u001b[0m\u001b[0;34m)\u001b[0m\u001b[0;34m)\u001b[0m\u001b[0;34m\u001b[0m\u001b[0m\n",
      "\u001b[0;31mNameError\u001b[0m: name 'nb' is not defined"
     ]
    }
   ],
   "source": [
    "preds = nb.predict(X_test)\n",
    "\n",
    "print(len(preds))"
   ]
  },
  {
   "cell_type": "markdown",
   "metadata": {},
   "source": [
    "Visualization of Prediction and True Value"
   ]
  },
  {
   "cell_type": "code",
   "execution_count": null,
   "metadata": {
    "collapsed": true
   },
   "outputs": [],
   "source": []
  },
  {
   "cell_type": "markdown",
   "metadata": {},
   "source": [
    "### Evaluate"
   ]
  },
  {
   "cell_type": "code",
   "execution_count": 13,
   "metadata": {},
   "outputs": [
    {
     "name": "stdout",
     "output_type": "stream",
     "text": [
      "[[ 656  290  432  325  104]\n",
      " [ 192  217 1050  924  159]\n",
      " [  64   95 1316 3245  310]\n",
      " [  33   30  369 7434 2836]\n",
      " [  17   13   66 3398 7196]]\n",
      "\n",
      "\n",
      "             precision    recall  f1-score   support\n",
      "\n",
      "        1.0       0.68      0.36      0.47      1807\n",
      "        2.0       0.34      0.09      0.14      2542\n",
      "        3.0       0.41      0.26      0.32      5030\n",
      "        4.0       0.49      0.69      0.57     10702\n",
      "        5.0       0.68      0.67      0.68     10690\n",
      "\n",
      "avg / total       0.54      0.55      0.52     30771\n",
      "\n"
     ]
    }
   ],
   "source": [
    "from sklearn.metrics import confusion_matrix, classification_report\n",
    "print(confusion_matrix(y_test, preds))\n",
    "print('\\n')\n",
    "print(classification_report(y_test, preds)) "
   ]
  },
  {
   "cell_type": "code",
   "execution_count": 31,
   "metadata": {},
   "outputs": [
    {
     "name": "stdout",
     "output_type": "stream",
     "text": [
      "645\n",
      "2542\n",
      "0.559000357479\n"
     ]
    }
   ],
   "source": [
    "print(len(preds[preds == 2.0]))\n",
    "y_test_ = np.array(y_test.tolist())\n",
    "print(len(y_test_[y_test_ == 2.0]))\n",
    "\n",
    "import numpy as np\n",
    "print(np.average(np.absolute(preds - y_test)))"
   ]
  },
  {
   "cell_type": "code",
   "execution_count": null,
   "metadata": {
    "collapsed": true
   },
   "outputs": [],
   "source": []
  }
 ],
 "metadata": {
  "kernelspec": {
   "display_name": "Python 3",
   "language": "python",
   "name": "python3"
  },
  "language_info": {
   "codemirror_mode": {
    "name": "ipython",
    "version": 3
   },
   "file_extension": ".py",
   "mimetype": "text/x-python",
   "name": "python",
   "nbconvert_exporter": "python",
   "pygments_lexer": "ipython3",
   "version": "3.6.3"
  }
 },
 "nbformat": 4,
 "nbformat_minor": 2
}
