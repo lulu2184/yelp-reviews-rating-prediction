{
 "cells": [
  {
   "cell_type": "markdown",
   "metadata": {},
   "source": [
    "# Rating Predictor for Yelp Reviews"
   ]
  },
  {
   "cell_type": "code",
   "execution_count": 1,
   "metadata": {
    "collapsed": true
   },
   "outputs": [],
   "source": [
    "# Import libraries\n",
    "import requests\n",
    "import json\n",
    "import time\n",
    "import pandas as pd\n",
    "from bs4 import BeautifulSoup"
   ]
  },
  {
   "cell_type": "markdown",
   "metadata": {},
   "source": [
    "## Scraper\n",
    "Scrape review and restaurant data from Yelp API."
   ]
  },
  {
   "cell_type": "code",
   "execution_count": 4,
   "metadata": {
    "collapsed": true
   },
   "outputs": [],
   "source": [
    "# Load API key from file \n",
    "with open('api_key.txt', 'r') as f:\n",
    "    api_key = f.read().replace('\\n','')"
   ]
  },
  {
   "cell_type": "code",
   "execution_count": 29,
   "metadata": {
    "collapsed": true
   },
   "outputs": [],
   "source": [
    "def extract_info_for_business(row):\n",
    "    return {'name': row['name'], 'id': row['id'], 'review_count': int(row['review_count']), 'url': row['url']}\n",
    "\n",
    "def scrape_restaurant_list(location):\n",
    "    # Comment for method    \n",
    "    payload = {'categories': 'restaurants', 'location': location, 'limit': 20, 'offset': 0}\n",
    "    basic_url = 'https://api.yelp.com/v3/businesses/search'\n",
    "    headers = {'Authorization': 'Bearer ' + api_key}\n",
    "    response = requests.get(basic_url, params=payload, headers=headers)\n",
    "    res_json = response.json()\n",
    "    total = res_json['total']\n",
    "    print(\"total: \", total)\n",
    "    businesses_list = list(map(extract_info_for_business, res_json['businesses']))\n",
    "    while len(businesses_list) < total:\n",
    "        print(len(businesses_list))\n",
    "        time.sleep(0.3)\n",
    "        payload['offset'] = len(businesses_list)\n",
    "        response = requests.get(basic_url, params=payload, headers=headers)\n",
    "        res_json = response.json()\n",
    "        if 'businesses' not in res_json or len(list(res_json['businesses'])) == 0:\n",
    "            break\n",
    "        businesses_list.extend(list(map(extract_info_for_business ,res_json['businesses'])))\n",
    "    \n",
    "    return businesses_list\n",
    "    "
   ]
  },
  {
   "cell_type": "code",
   "execution_count": 30,
   "metadata": {},
   "outputs": [
    {
     "name": "stdout",
     "output_type": "stream",
     "text": [
      "total:  4000\n",
      "20\n",
      "40\n",
      "60\n",
      "80\n",
      "100\n",
      "120\n",
      "140\n",
      "160\n",
      "180\n",
      "200\n",
      "220\n",
      "240\n",
      "260\n",
      "280\n",
      "300\n",
      "320\n",
      "340\n",
      "360\n",
      "380\n",
      "400\n",
      "420\n",
      "440\n",
      "460\n",
      "480\n",
      "500\n",
      "520\n",
      "540\n",
      "560\n",
      "580\n",
      "600\n",
      "620\n",
      "640\n",
      "660\n",
      "680\n",
      "700\n",
      "720\n",
      "740\n",
      "760\n",
      "780\n",
      "800\n",
      "820\n",
      "840\n",
      "860\n",
      "880\n",
      "900\n",
      "920\n",
      "940\n",
      "960\n",
      "980\n",
      "1000\n",
      "1000\n"
     ]
    }
   ],
   "source": [
    "blist = scrape_restaurant_list('94043')\n",
    "# print(blist)\n",
    "print(len(blist))"
   ]
  },
  {
   "cell_type": "code",
   "execution_count": 31,
   "metadata": {},
   "outputs": [
    {
     "name": "stdout",
     "output_type": "stream",
     "text": [
      "[{'name': \"The Sea by Alexander's Steakhouse\", 'id': 'P1eEPolk9EDGqVn1Jyncww', 'review_count': 874, 'url': 'https://www.yelp.com/biz/the-sea-by-alexanders-steakhouse-palo-alto?adjust_creative=6RD6nFOw75PxaCjeWnG24Q&utm_campaign=yelp_api_v3&utm_medium=api_v3_business_search&utm_source=6RD6nFOw75PxaCjeWnG24Q'}, {'name': 'So Gong Dong Tofu House', 'id': 'rTUV3mPTGcALQrKgdokACA', 'review_count': 1326, 'url': 'https://www.yelp.com/biz/so-gong-dong-tofu-house-palo-alto?adjust_creative=6RD6nFOw75PxaCjeWnG24Q&utm_campaign=yelp_api_v3&utm_medium=api_v3_business_search&utm_source=6RD6nFOw75PxaCjeWnG24Q'}, {'name': \"Zareen's\", 'id': 'ud9ocsQHI7h3zNO7FdOFYQ', 'review_count': 1263, 'url': 'https://www.yelp.com/biz/zareens-mountain-view-3?adjust_creative=6RD6nFOw75PxaCjeWnG24Q&utm_campaign=yelp_api_v3&utm_medium=api_v3_business_search&utm_source=6RD6nFOw75PxaCjeWnG24Q'}, {'name': 'Evvia Estiatorio', 'id': '1vMgajRAI3lYwuCeGX58oQ', 'review_count': 2098, 'url': 'https://www.yelp.com/biz/evvia-estiatorio-palo-alto?adjust_creative=6RD6nFOw75PxaCjeWnG24Q&utm_campaign=yelp_api_v3&utm_medium=api_v3_business_search&utm_source=6RD6nFOw75PxaCjeWnG24Q'}, {'name': \"Dittmer's Gourmet Meats & Wurst-Haus\", 'id': 'OPuFiXxckMS6U5KZjQWYFw', 'review_count': 597, 'url': 'https://www.yelp.com/biz/dittmers-gourmet-meats-and-wurst-haus-los-altos-2?adjust_creative=6RD6nFOw75PxaCjeWnG24Q&utm_campaign=yelp_api_v3&utm_medium=api_v3_business_search&utm_source=6RD6nFOw75PxaCjeWnG24Q'}, {'name': 'La Bodeguita Del Medio', 'id': 'gYZbQe-zYyMpd9z1ud0T0w', 'review_count': 1708, 'url': 'https://www.yelp.com/biz/la-bodeguita-del-medio-palo-alto?adjust_creative=6RD6nFOw75PxaCjeWnG24Q&utm_campaign=yelp_api_v3&utm_medium=api_v3_business_search&utm_source=6RD6nFOw75PxaCjeWnG24Q'}, {'name': \"Chef Chu's\", 'id': 'ZimdCe2xCAOOZjt1aQAMvg', 'review_count': 1335, 'url': 'https://www.yelp.com/biz/chef-chus-los-altos?adjust_creative=6RD6nFOw75PxaCjeWnG24Q&utm_campaign=yelp_api_v3&utm_medium=api_v3_business_search&utm_source=6RD6nFOw75PxaCjeWnG24Q'}, {'name': 'INDO Restaurant & Lounge', 'id': '-gjBoypvDfv9UhagceRsvw', 'review_count': 834, 'url': 'https://www.yelp.com/biz/indo-restaurant-and-lounge-palo-alto-2?adjust_creative=6RD6nFOw75PxaCjeWnG24Q&utm_campaign=yelp_api_v3&utm_medium=api_v3_business_search&utm_source=6RD6nFOw75PxaCjeWnG24Q'}, {'name': 'Terún', 'id': 'pLqiFFz1JScp8wMMyXcx-w', 'review_count': 1127, 'url': 'https://www.yelp.com/biz/ter%C3%BAn-palo-alto-3?adjust_creative=6RD6nFOw75PxaCjeWnG24Q&utm_campaign=yelp_api_v3&utm_medium=api_v3_business_search&utm_source=6RD6nFOw75PxaCjeWnG24Q'}, {'name': 'Cascal', 'id': 'K6IdrX5prUvA5iAMCdQfGw', 'review_count': 2675, 'url': 'https://www.yelp.com/biz/cascal-mountain-view?adjust_creative=6RD6nFOw75PxaCjeWnG24Q&utm_campaign=yelp_api_v3&utm_medium=api_v3_business_search&utm_source=6RD6nFOw75PxaCjeWnG24Q'}]\n"
     ]
    }
   ],
   "source": [
    "print(blist[:10])"
   ]
  },
  {
   "cell_type": "markdown",
   "metadata": {},
   "source": [
    "Get reviews"
   ]
  },
  {
   "cell_type": "code",
   "execution_count": 32,
   "metadata": {
    "collapsed": true
   },
   "outputs": [],
   "source": [
    "def parse_page(html):\n",
    "    \"\"\"\n",
    "    Parse the reviews on a single page of a restaurant.\n",
    "    \n",
    "    Args:\n",
    "        html (string): String of HTML corresponding to a Yelp restaurant\n",
    "\n",
    "    Returns:\n",
    "        tuple(list, string): a tuple of two elements\n",
    "            first element: list of dictionaries corresponding to the extracted review information\n",
    "            second element: URL for the next page of reviews (or None if it is the last page)\n",
    "    \"\"\"\n",
    "    review_list = []\n",
    "    soup = BeautifulSoup(html, 'html.parser')\n",
    "    for review_block in soup.find_all('div', attrs={'class': 'review review--with-sidebar'}):\n",
    "        review_id = user_id = rating = date = text = None\n",
    "        if 'data-review-id' in review_block.attrs:\n",
    "            review_id = review_block['data-review-id']\n",
    "        if 'data-signup-object' in review_block.attrs and review_block['data-signup-object'].startswith('user_id:'):\n",
    "            user_id = review_block['data-signup-object'][8:]\n",
    "        rating_div = review_block.find('div', attrs={'class': 'i-stars'})\n",
    "        if 'title' in rating_div.attrs:\n",
    "            rating = float(rating_div['title'].split()[0])\n",
    "        date_span = review_block.find('span', attrs={'class': 'rating-qualifier'})\n",
    "        if date_span:\n",
    "            date = date_span.getText().strip()\n",
    "        review_content = review_block.find('div', attrs={'class': 'review-content'})\n",
    "        if review_content:\n",
    "            text = review_content.find('p').getText()\n",
    "        if review_id and user_id and rating and date and text:\n",
    "            review_list.append({\n",
    "                'review_id': review_id,\n",
    "                'user_id': user_id,\n",
    "                'rating': rating,\n",
    "                'date': date,\n",
    "                'text': text\n",
    "            })\n",
    "    next_link = None\n",
    "    next_ele = soup.find('a', attrs={'class': 'u-decoration-none next pagination-links_anchor'})\n",
    "    if next_ele and 'href' in next_ele.attrs:\n",
    "        next_link = next_ele['href']\n",
    "    return review_list, next_link"
   ]
  },
  {
   "cell_type": "code",
   "execution_count": 53,
   "metadata": {
    "collapsed": true
   },
   "outputs": [],
   "source": [
    "def scrape_all_reviews(restaurants):\n",
    "    for i, restaurant in enumerate(restaurants):\n",
    "        print(\"restaurant: \", i)\n",
    "        reviews = []\n",
    "        url = restaurant['url']\n",
    "        while url != None:\n",
    "            response = requests.get(url)\n",
    "            reviews_in_page, url = parse_page(response.content)\n",
    "            reviews.extend(reviews_in_page)\n",
    "        print(len(reviews))\n",
    "        df = pd.DataFrame(reviews)\n",
    "        df.to_csv('reviews.csv', mode='a', header=True)"
   ]
  },
  {
   "cell_type": "code",
   "execution_count": null,
   "metadata": {},
   "outputs": [
    {
     "name": "stdout",
     "output_type": "stream",
     "text": [
      "restaurant:  0\n",
      "990\n",
      "restaurant:  1\n",
      "618\n",
      "restaurant:  2\n",
      "440\n",
      "restaurant:  3\n",
      "801\n",
      "restaurant:  4\n",
      "552\n",
      "restaurant:  5\n",
      "1213\n",
      "restaurant:  6\n",
      "661\n",
      "restaurant:  7\n",
      "482\n",
      "restaurant:  8\n",
      "697\n",
      "restaurant:  9\n",
      "1183\n",
      "restaurant:  10\n",
      "1382\n",
      "restaurant:  11\n",
      "1044\n",
      "restaurant:  12\n",
      "1423\n",
      "restaurant:  13\n",
      "647\n",
      "restaurant:  14\n",
      "671\n",
      "restaurant:  15\n",
      "1150\n",
      "restaurant:  16\n",
      "574\n",
      "restaurant:  17\n",
      "150\n",
      "restaurant:  18\n",
      "1227\n",
      "restaurant:  19\n",
      "442\n",
      "restaurant:  20\n",
      "511\n",
      "restaurant:  21\n",
      "629\n",
      "restaurant:  22\n",
      "703\n",
      "restaurant:  23\n",
      "992\n",
      "restaurant:  24\n",
      "424\n",
      "restaurant:  25\n",
      "193\n",
      "restaurant:  26\n",
      "851\n",
      "restaurant:  27\n",
      "349\n",
      "restaurant:  28\n",
      "1177\n",
      "restaurant:  29\n",
      "449\n",
      "restaurant:  30\n",
      "1246\n",
      "restaurant:  31\n",
      "863\n",
      "restaurant:  32\n",
      "1189\n",
      "restaurant:  33\n",
      "420\n",
      "restaurant:  34\n",
      "623\n",
      "restaurant:  35\n",
      "1490\n",
      "restaurant:  36\n",
      "612\n",
      "restaurant:  37\n",
      "402\n",
      "restaurant:  38\n",
      "479\n",
      "restaurant:  39\n",
      "913\n",
      "restaurant:  40\n",
      "552\n",
      "restaurant:  41\n",
      "576\n",
      "restaurant:  42\n",
      "931\n",
      "restaurant:  43\n",
      "600\n",
      "restaurant:  44\n",
      "342\n",
      "restaurant:  45\n",
      "721\n",
      "restaurant:  46\n",
      "434\n",
      "restaurant:  47\n",
      "911\n",
      "restaurant:  48\n",
      "286\n",
      "restaurant:  49\n",
      "1859\n",
      "restaurant:  50\n",
      "626\n",
      "restaurant:  51\n",
      "564\n",
      "restaurant:  52\n",
      "1178\n",
      "restaurant:  53\n",
      "499\n",
      "restaurant:  54\n",
      "367\n",
      "restaurant:  55\n",
      "340\n",
      "restaurant:  56\n",
      "315\n",
      "restaurant:  57\n",
      "221\n",
      "restaurant:  58\n",
      "1175\n",
      "restaurant:  59\n",
      "842\n",
      "restaurant:  60\n",
      "571\n",
      "restaurant:  61\n",
      "438\n",
      "restaurant:  62\n",
      "291\n",
      "restaurant:  63\n",
      "538\n",
      "restaurant:  64\n",
      "337\n",
      "restaurant:  65\n",
      "116\n",
      "restaurant:  66\n",
      "1476\n",
      "restaurant:  67\n",
      "1089\n",
      "restaurant:  68\n",
      "524\n",
      "restaurant:  69\n",
      "164\n",
      "restaurant:  70\n"
     ]
    }
   ],
   "source": [
    "scrape_all_reviews(blist[42:])"
   ]
  },
  {
   "cell_type": "code",
   "execution_count": 48,
   "metadata": {},
   "outputs": [
    {
     "name": "stdout",
     "output_type": "stream",
     "text": [
      "3\n"
     ]
    }
   ],
   "source": []
  },
  {
   "cell_type": "markdown",
   "metadata": {
    "collapsed": true
   },
   "source": [
    "## Feature Extraction"
   ]
  },
  {
   "cell_type": "code",
   "execution_count": 46,
   "metadata": {},
   "outputs": [
    {
     "name": "stderr",
     "output_type": "stream",
     "text": [
      "/anaconda3/lib/python3.6/site-packages/ipykernel_launcher.py:2: DeprecationWarning: 'U' mode is deprecated\n",
      "  \n"
     ]
    }
   ],
   "source": [
    "# df = pd.read_csv(open('reviews.csv','rU'), header = None)\n",
    "df = pd.read_csv(open('reviews.csv','rU'))\n"
   ]
  },
  {
   "cell_type": "code",
   "execution_count": 49,
   "metadata": {},
   "outputs": [
    {
     "name": "stdout",
     "output_type": "stream",
     "text": [
      "133\n",
      "                                                     text  rating  length\n",
      "0       Had an amazing four course dinner here! 1. Wil...     5.0     133\n",
      "1       A Saturday date night with my boyfriend - and ...     4.0     112\n",
      "2       Was able to get a seat at the bar at 1700 with...     5.0      57\n",
      "3       Tasting menu here is delicious! Alexander's pa...     4.0      15\n",
      "4       One of the best fine dining restaurants I've b...     5.0     233\n",
      "5       First, I must confess we had no business being...     4.0     146\n",
      "6       Good food, good service, pricey but for an occ...     4.0     444\n",
      "7       Having been to the Steakhouse in Cupertino, I ...     4.0     409\n",
      "8       Made a reservation the day before and came her...     4.0     303\n",
      "9       ** Upscale restaurant with both steak and seaf...     4.0     199\n",
      "10      This review is for a catered event our company...     2.0     178\n",
      "11      Excellent service and good ambiance makes this...     4.0      70\n",
      "12      The food here was so good! The sea bass really...     4.0      47\n",
      "13      Nobody will complain the food quality or the s...     3.0      95\n",
      "14      Came by for dinner the other night and it was ...     4.0     270\n",
      "15      Service! Service! Service!Food! Food! Food!Wha...     5.0      39\n",
      "16      Food is top-notch. Service has room for improv...     4.0     290\n",
      "17      This place is definitely a good place to bring...     4.0     291\n",
      "18      This place is beautiful. The interior is decor...     5.0     216\n",
      "19      I've heard many good things about the seafood ...     4.0     349\n",
      "20      Alexander's never disappoints. My boyfriend de...     5.0     218\n",
      "21      My sweetheart brought me here for my bday and ...     5.0     189\n",
      "22      Don't get me wrong, the food here is amazing a...     3.0     183\n",
      "23      I didn't love Alexander's Steakhouse, but I do...     4.0     153\n",
      "24      Delicious!  A bit pricey but worth the occasio...     4.0      41\n",
      "25      I have to say the food at Alexander's in SF is...     3.0     460\n",
      "26      Here for a friend's birthday dinner - was expe...     3.0     254\n",
      "27      My boyfriend and I would come here all the tim...     3.0     269\n",
      "28      I can now say I've tried all of the the Alexan...     4.0     255\n",
      "29      Another work event, this time at The Sea.  Fre...     4.0     167\n",
      "...                                                   ...     ...     ...\n",
      "102670  I really had no idea there was a restaurant he...     3.0      99\n",
      "102671  My general rule is to never eat at a hotel res...     3.0      86\n",
      "102672  I wanted to share how pleased I am that Dinah'...     5.0     110\n",
      "102673  I order over easy eggs .....they brought over ...     1.0      40\n",
      "102674  We enjoyed the ambience and the food.     The ...     5.0      29\n",
      "102675  There are two kinds of people in the world...t...     5.0     212\n",
      "102676  Dinah's poolside restaurant is great for every...     5.0      74\n",
      "102677  I became a fan of this restaurant. Indoor or o...     4.0      64\n",
      "102678  I found this place on Yelp after I was in the ...     5.0      64\n",
      "102679  Wow. How is it that I've never been to this pl...     5.0      38\n",
      "102680  Excellent food. This restaurant never fails to...     5.0      62\n",
      "102681  Best happy hour around, great food, great pric...     5.0      47\n",
      "102682  Dreadful service. Today my significant other a...     2.0     307\n",
      "102683  We are staying in the hotel and decided to sto...     3.0     111\n",
      "102684  Came here Friday for dinner for the first time...     4.0     142\n",
      "102685  Currently sitting by the pool with a mimosa in...     5.0      43\n",
      "102686  The food was okay. Not terrible, not amazing. ...     3.0      53\n",
      "102687  I grew up in Los Altos and this has been a hid...     5.0     127\n",
      "102688  I had a wonderful brunch at Dinah's Poolside R...     5.0      57\n",
      "102689  Delicious brunch this morning!  Dinah Mite Ben...     5.0      50\n",
      "102690  My husband and I came for a brunch date on a q...     2.0     332\n",
      "102691  Very very good food. Been staying at the hotel...     4.0      63\n",
      "102692  This was a big disappointment. We are local re...     2.0     138\n",
      "102693  Took my wife here for her bday weekend after d...     5.0      53\n",
      "102694  The setting on a beautiful Fall day is ideal. ...     3.0      81\n",
      "102695  the ambience at Dinah's is really nice, being ...     3.0      86\n",
      "102696  This place is amazing .The food is so fresh an...     5.0     116\n",
      "102697  We spent four nights at Dinah's Hotel with our...     5.0     105\n",
      "102698  I've had dealings with Dinah's Poolside Restau...     5.0     117\n",
      "102699  Poolside dining! Not much more needs to be sai...     5.0      30\n",
      "\n",
      "[102589 rows x 3 columns]\n"
     ]
    }
   ],
   "source": [
    "# df['length'] = df.text.str.len()\n",
    "# print(df)\n",
    "def pre_process(df):\n",
    "    new_df = df\n",
    "    # Extract reviews and ratings\n",
    "    new_df = new_df[['text', 'rating']]\n",
    "    \n",
    "    # remove invalid rows with \",text,rating\"\n",
    "    new_df = new_df[new_df.rating.astype(str).str.contains(\"rating\") == False]\n",
    "\n",
    "    # convert rating values to float\n",
    "    new_df['rating'] = new_df['rating'].astype(float).fillna(0)\n",
    "    # add length column to record word count of reviews\n",
    "    new_df['length'] = new_df['text'].astype(str).apply(word_count)\n",
    "    print(new_df.iloc[0].length)\n",
    "    \n",
    "    # remove punctations\n",
    "    \n",
    "    return new_df\n",
    "    \n",
    "def word_count(str):\n",
    "    return len(str.split())\n",
    "\n",
    "df = pre_process(df)\n",
    "print(df)"
   ]
  },
  {
   "cell_type": "code",
   "execution_count": 50,
   "metadata": {},
   "outputs": [
    {
     "data": {
      "image/png": "[encoded data removed]",
      "text/plain": [
       "<matplotlib.figure.Figure at 0x118557dd8>"
      ]
     },
     "metadata": {},
     "output_type": "display_data"
    }
   ],
   "source": [
    "import seaborn as sns\n",
    "import nltk\n",
    "from nltk.corpus import stopwords\n",
    "import matplotlib.pyplot as plt\n",
    "\n",
    "g = sns.FacetGrid(data=df, col='rating')\n",
    "g.map(plt.hist, 'length', bins=5)\n",
    "plt.show()"
   ]
  },
  {
   "cell_type": "code",
   "execution_count": 61,
   "metadata": {},
   "outputs": [
    {
     "ename": "AttributeError",
     "evalue": "'Series' object has no attribute 'text'",
     "output_type": "error",
     "traceback": [
      "\u001b[0;31m---------------------------------------\u001b[0m",
      "\u001b[0;31mAttributeError\u001b[0mTraceback (most recent call last)",
      "\u001b[0;32m<ipython-input-61-fe2f41e70561>\u001b[0m in \u001b[0;36m<module>\u001b[0;34m()\u001b[0m\n\u001b[1;32m     14\u001b[0m \u001b[0mbow_transformer\u001b[0m \u001b[0;34m=\u001b[0m \u001b[0mCountVectorizer\u001b[0m\u001b[0;34m(\u001b[0m\u001b[0manalyzer\u001b[0m\u001b[0;34m=\u001b[0m\u001b[0mtext_process\u001b[0m\u001b[0;34m)\u001b[0m\u001b[0;34m.\u001b[0m\u001b[0mfit\u001b[0m\u001b[0;34m(\u001b[0m\u001b[0mX\u001b[0m\u001b[0;34m)\u001b[0m\u001b[0;34m\u001b[0m\u001b[0m\n\u001b[1;32m     15\u001b[0m \u001b[0;34m\u001b[0m\u001b[0m\n\u001b[0;32m---> 16\u001b[0;31m \u001b[0mreview_25\u001b[0m \u001b[0;34m=\u001b[0m \u001b[0mX\u001b[0m\u001b[0;34m.\u001b[0m\u001b[0mtext\u001b[0m\u001b[0;34m[\u001b[0m\u001b[0;36m24\u001b[0m\u001b[0;34m]\u001b[0m\u001b[0;34m\u001b[0m\u001b[0m\n\u001b[0m\u001b[1;32m     17\u001b[0m \u001b[0mprint\u001b[0m\u001b[0;34m(\u001b[0m\u001b[0mreview_25\u001b[0m\u001b[0;34m)\u001b[0m\u001b[0;34m\u001b[0m\u001b[0m\n\u001b[1;32m     18\u001b[0m \u001b[0mbow_25\u001b[0m \u001b[0;34m=\u001b[0m \u001b[0mbow_transformer\u001b[0m\u001b[0;34m.\u001b[0m\u001b[0mtransform\u001b[0m\u001b[0;34m(\u001b[0m\u001b[0;34m[\u001b[0m\u001b[0mreview_25\u001b[0m\u001b[0;34m]\u001b[0m\u001b[0;34m)\u001b[0m\u001b[0;34m\u001b[0m\u001b[0m\n",
      "\u001b[0;32m/anaconda3/lib/python3.6/site-packages/pandas/core/generic.py\u001b[0m in \u001b[0;36m__getattr__\u001b[0;34m(self, name)\u001b[0m\n\u001b[1;32m   3079\u001b[0m             \u001b[0;32mif\u001b[0m \u001b[0mname\u001b[0m \u001b[0;32min\u001b[0m \u001b[0mself\u001b[0m\u001b[0;34m.\u001b[0m\u001b[0m_info_axis\u001b[0m\u001b[0;34m:\u001b[0m\u001b[0;34m\u001b[0m\u001b[0m\n\u001b[1;32m   3080\u001b[0m                 \u001b[0;32mreturn\u001b[0m \u001b[0mself\u001b[0m\u001b[0;34m[\u001b[0m\u001b[0mname\u001b[0m\u001b[0;34m]\u001b[0m\u001b[0;34m\u001b[0m\u001b[0m\n\u001b[0;32m-> 3081\u001b[0;31m             \u001b[0;32mreturn\u001b[0m \u001b[0mobject\u001b[0m\u001b[0;34m.\u001b[0m\u001b[0m__getattribute__\u001b[0m\u001b[0;34m(\u001b[0m\u001b[0mself\u001b[0m\u001b[0;34m,\u001b[0m \u001b[0mname\u001b[0m\u001b[0;34m)\u001b[0m\u001b[0;34m\u001b[0m\u001b[0m\n\u001b[0m\u001b[1;32m   3082\u001b[0m \u001b[0;34m\u001b[0m\u001b[0m\n\u001b[1;32m   3083\u001b[0m     \u001b[0;32mdef\u001b[0m \u001b[0m__setattr__\u001b[0m\u001b[0;34m(\u001b[0m\u001b[0mself\u001b[0m\u001b[0;34m,\u001b[0m \u001b[0mname\u001b[0m\u001b[0;34m,\u001b[0m \u001b[0mvalue\u001b[0m\u001b[0;34m)\u001b[0m\u001b[0;34m:\u001b[0m\u001b[0;34m\u001b[0m\u001b[0m\n",
      "\u001b[0;31mAttributeError\u001b[0m: 'Series' object has no attribute 'text'"
     ]
    }
   ],
   "source": [
    "binary = df[(df.rating == 1.0) | (df.rating == 5.0)]\n",
    "# print(binary)\n",
    "X = binary.text\n",
    "y = binary.rating\n",
    "\n",
    "import string\n",
    "def text_process(text):\n",
    "    nopunc = [char for char in text if char not in string.punctuation]\n",
    "    nopunc = ''.join(nopunc)\n",
    "    \n",
    "    return [word for word in nopunc.split() if word.lower() not in stopwords.words('english')]\n",
    "\n",
    "from sklearn.feature_extraction.text import CountVectorizer\n",
    "bow_transformer = CountVectorizer(analyzer=text_process).fit(X)\n",
    "\n",
    "\n"
   ]
  },
  {
   "cell_type": "code",
   "execution_count": 63,
   "metadata": {},
   "outputs": [
    {
     "name": "stdout",
     "output_type": "stream",
     "text": [
      "Had an absolute wonderful dining experience.  Had dinner with two others couples. It was a birthday dinner for me and the staff made it feel very special.  Though i think that is a normal way they go about serving all their guests.From the bread options, the lobster rocks and mussles as appetizers through the entrees to the cotton candy and other sweats to end the dinner everything was great. Superior service and awesome food.\n",
      "  (0, 23651)\t1\n",
      "  (0, 24528)\t1\n",
      "  (0, 27396)\t1\n",
      "  (0, 29695)\t1\n",
      "  (0, 30991)\t1\n",
      "  (0, 33128)\t1\n",
      "  (0, 34193)\t1\n",
      "  (0, 35705)\t1\n",
      "  (0, 39750)\t1\n",
      "  (0, 39855)\t1\n",
      "  (0, 43049)\t1\n",
      "  (0, 43070)\t3\n",
      "  (0, 45960)\t1\n",
      "  (0, 46252)\t1\n",
      "  (0, 46854)\t1\n",
      "  (0, 47361)\t1\n",
      "  (0, 48529)\t1\n",
      "  (0, 49823)\t1\n",
      "  (0, 52345)\t1\n",
      "  (0, 53314)\t1\n",
      "  (0, 53803)\t1\n",
      "  (0, 61201)\t1\n",
      "  (0, 62078)\t1\n",
      "  (0, 65570)\t1\n",
      "  (0, 66872)\t1\n",
      "  (0, 68457)\t1\n",
      "  (0, 68923)\t1\n",
      "  (0, 77458)\t1\n",
      "  (0, 79990)\t1\n",
      "  (0, 80210)\t1\n",
      "  (0, 82866)\t1\n",
      "  (0, 83547)\t1\n",
      "  (0, 85614)\t1\n",
      "  (0, 87843)\t1\n",
      "  (0, 90367)\t1\n",
      "  (0, 93061)\t1\n",
      "  (0, 94426)\t1\n"
     ]
    }
   ],
   "source": [
    "review_25 = X.iloc[24]\n",
    "print(review_25)\n",
    "bow_25 = bow_transformer.transform([review_25])\n",
    "print(bow_25)"
   ]
  },
  {
   "cell_type": "code",
   "execution_count": 64,
   "metadata": {
    "collapsed": true
   },
   "outputs": [],
   "source": [
    "X_ = bow_transformer.transform(X)"
   ]
  },
  {
   "cell_type": "markdown",
   "metadata": {
    "collapsed": true
   },
   "source": [
    "## Train the Model"
   ]
  },
  {
   "cell_type": "code",
   "execution_count": 67,
   "metadata": {
    "collapsed": true
   },
   "outputs": [],
   "source": [
    "from sklearn.model_selection import train_test_split\n",
    "X_train, X_test, y_train, y_test = train_test_split(X_, y, test_size=0.3, random_state=101)"
   ]
  },
  {
   "cell_type": "markdown",
   "metadata": {},
   "source": [
    "### Train by naive bayes"
   ]
  },
  {
   "cell_type": "code",
   "execution_count": 68,
   "metadata": {},
   "outputs": [
    {
     "data": {
      "text/plain": [
       "MultinomialNB(alpha=1.0, class_prior=None, fit_prior=True)"
      ]
     },
     "execution_count": 68,
     "metadata": {},
     "output_type": "execute_result"
    }
   ],
   "source": [
    "from sklearn.naive_bayes import MultinomialNB\n",
    "nb = MultinomialNB()\n",
    "nb.fit(X_train, y_train)"
   ]
  },
  {
   "cell_type": "markdown",
   "metadata": {},
   "source": [
    "### Predict"
   ]
  },
  {
   "cell_type": "code",
   "execution_count": 69,
   "metadata": {
    "collapsed": true
   },
   "outputs": [],
   "source": [
    "preds = nb.predict(X_test)"
   ]
  },
  {
   "cell_type": "markdown",
   "metadata": {},
   "source": [
    "### Evaluate"
   ]
  },
  {
   "cell_type": "code",
   "execution_count": 70,
   "metadata": {},
   "outputs": [
    {
     "name": "stdout",
     "output_type": "stream",
     "text": [
      "[[ 1436   355]\n",
      " [  134 10485]]\n",
      "\n",
      "\n",
      "             precision    recall  f1-score   support\n",
      "\n",
      "        1.0       0.91      0.80      0.85      1791\n",
      "        5.0       0.97      0.99      0.98     10619\n",
      "\n",
      "avg / total       0.96      0.96      0.96     12410\n",
      "\n"
     ]
    }
   ],
   "source": [
    "from sklearn.metrics import confusion_matrix, classification_report\n",
    "print(confusion_matrix(y_test, preds))\n",
    "print('\\n')\n",
    "print(classification_report(y_test, preds)) "
   ]
  },
  {
   "cell_type": "code",
   "execution_count": null,
   "metadata": {
    "collapsed": true
   },
   "outputs": [],
   "source": []
  }
 ],
 "metadata": {
  "kernelspec": {
   "display_name": "Python 3",
   "language": "python",
   "name": "python3"
  },
  "language_info": {
   "codemirror_mode": {
    "name": "ipython",
    "version": 3
   },
   "file_extension": ".py",
   "mimetype": "text/x-python",
   "name": "python",
   "nbconvert_exporter": "python",
   "pygments_lexer": "ipython3",
   "version": "3.6.3"
  }
 },
 "nbformat": 4,
 "nbformat_minor": 2
}
